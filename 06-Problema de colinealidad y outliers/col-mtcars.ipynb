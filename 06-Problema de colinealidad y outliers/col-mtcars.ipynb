{
 "cells": [
  {
   "cell_type": "code",
   "execution_count": 25,
   "id": "4a491246",
   "metadata": {
    "vscode": {
     "languageId": "r"
    }
   },
   "outputs": [
    {
     "data": {
      "text/html": [
       "<table class=\"dataframe\">\n",
       "<caption>A data.frame: 6 × 11</caption>\n",
       "<thead>\n",
       "\t<tr><th></th><th scope=col>mpg</th><th scope=col>cyl</th><th scope=col>disp</th><th scope=col>hp</th><th scope=col>drat</th><th scope=col>wt</th><th scope=col>qsec</th><th scope=col>vs</th><th scope=col>am</th><th scope=col>gear</th><th scope=col>carb</th></tr>\n",
       "\t<tr><th></th><th scope=col>&lt;dbl&gt;</th><th scope=col>&lt;fct&gt;</th><th scope=col>&lt;dbl&gt;</th><th scope=col>&lt;dbl&gt;</th><th scope=col>&lt;dbl&gt;</th><th scope=col>&lt;dbl&gt;</th><th scope=col>&lt;dbl&gt;</th><th scope=col>&lt;fct&gt;</th><th scope=col>&lt;fct&gt;</th><th scope=col>&lt;fct&gt;</th><th scope=col>&lt;fct&gt;</th></tr>\n",
       "</thead>\n",
       "<tbody>\n",
       "\t<tr><th scope=row>Mazda RX4</th><td>21.0</td><td>6</td><td>160</td><td>110</td><td>3.90</td><td>2.620</td><td>16.46</td><td>V</td><td>manual   </td><td>4</td><td>4</td></tr>\n",
       "\t<tr><th scope=row>Mazda RX4 Wag</th><td>21.0</td><td>6</td><td>160</td><td>110</td><td>3.90</td><td>2.875</td><td>17.02</td><td>V</td><td>manual   </td><td>4</td><td>4</td></tr>\n",
       "\t<tr><th scope=row>Datsun 710</th><td>22.8</td><td>4</td><td>108</td><td> 93</td><td>3.85</td><td>2.320</td><td>18.61</td><td>S</td><td>manual   </td><td>4</td><td>1</td></tr>\n",
       "\t<tr><th scope=row>Hornet 4 Drive</th><td>21.4</td><td>6</td><td>258</td><td>110</td><td>3.08</td><td>3.215</td><td>19.44</td><td>S</td><td>automatic</td><td>3</td><td>1</td></tr>\n",
       "\t<tr><th scope=row>Hornet Sportabout</th><td>18.7</td><td>8</td><td>360</td><td>175</td><td>3.15</td><td>3.440</td><td>17.02</td><td>V</td><td>automatic</td><td>3</td><td>2</td></tr>\n",
       "\t<tr><th scope=row>Valiant</th><td>18.1</td><td>6</td><td>225</td><td>105</td><td>2.76</td><td>3.460</td><td>20.22</td><td>S</td><td>automatic</td><td>3</td><td>1</td></tr>\n",
       "</tbody>\n",
       "</table>\n"
      ],
      "text/latex": [
       "A data.frame: 6 × 11\n",
       "\\begin{tabular}{r|lllllllllll}\n",
       "  & mpg & cyl & disp & hp & drat & wt & qsec & vs & am & gear & carb\\\\\n",
       "  & <dbl> & <fct> & <dbl> & <dbl> & <dbl> & <dbl> & <dbl> & <fct> & <fct> & <fct> & <fct>\\\\\n",
       "\\hline\n",
       "\tMazda RX4 & 21.0 & 6 & 160 & 110 & 3.90 & 2.620 & 16.46 & V & manual    & 4 & 4\\\\\n",
       "\tMazda RX4 Wag & 21.0 & 6 & 160 & 110 & 3.90 & 2.875 & 17.02 & V & manual    & 4 & 4\\\\\n",
       "\tDatsun 710 & 22.8 & 4 & 108 &  93 & 3.85 & 2.320 & 18.61 & S & manual    & 4 & 1\\\\\n",
       "\tHornet 4 Drive & 21.4 & 6 & 258 & 110 & 3.08 & 3.215 & 19.44 & S & automatic & 3 & 1\\\\\n",
       "\tHornet Sportabout & 18.7 & 8 & 360 & 175 & 3.15 & 3.440 & 17.02 & V & automatic & 3 & 2\\\\\n",
       "\tValiant & 18.1 & 6 & 225 & 105 & 2.76 & 3.460 & 20.22 & S & automatic & 3 & 1\\\\\n",
       "\\end{tabular}\n"
      ],
      "text/markdown": [
       "\n",
       "A data.frame: 6 × 11\n",
       "\n",
       "| <!--/--> | mpg &lt;dbl&gt; | cyl &lt;fct&gt; | disp &lt;dbl&gt; | hp &lt;dbl&gt; | drat &lt;dbl&gt; | wt &lt;dbl&gt; | qsec &lt;dbl&gt; | vs &lt;fct&gt; | am &lt;fct&gt; | gear &lt;fct&gt; | carb &lt;fct&gt; |\n",
       "|---|---|---|---|---|---|---|---|---|---|---|---|\n",
       "| Mazda RX4 | 21.0 | 6 | 160 | 110 | 3.90 | 2.620 | 16.46 | V | manual    | 4 | 4 |\n",
       "| Mazda RX4 Wag | 21.0 | 6 | 160 | 110 | 3.90 | 2.875 | 17.02 | V | manual    | 4 | 4 |\n",
       "| Datsun 710 | 22.8 | 4 | 108 |  93 | 3.85 | 2.320 | 18.61 | S | manual    | 4 | 1 |\n",
       "| Hornet 4 Drive | 21.4 | 6 | 258 | 110 | 3.08 | 3.215 | 19.44 | S | automatic | 3 | 1 |\n",
       "| Hornet Sportabout | 18.7 | 8 | 360 | 175 | 3.15 | 3.440 | 17.02 | V | automatic | 3 | 2 |\n",
       "| Valiant | 18.1 | 6 | 225 | 105 | 2.76 | 3.460 | 20.22 | S | automatic | 3 | 1 |\n",
       "\n"
      ],
      "text/plain": [
       "                  mpg  cyl disp hp  drat wt    qsec  vs am        gear carb\n",
       "Mazda RX4         21.0 6   160  110 3.90 2.620 16.46 V  manual    4    4   \n",
       "Mazda RX4 Wag     21.0 6   160  110 3.90 2.875 17.02 V  manual    4    4   \n",
       "Datsun 710        22.8 4   108   93 3.85 2.320 18.61 S  manual    4    1   \n",
       "Hornet 4 Drive    21.4 6   258  110 3.08 3.215 19.44 S  automatic 3    1   \n",
       "Hornet Sportabout 18.7 8   360  175 3.15 3.440 17.02 V  automatic 3    2   \n",
       "Valiant           18.1 6   225  105 2.76 3.460 20.22 S  automatic 3    1   "
      ]
     },
     "metadata": {},
     "output_type": "display_data"
    }
   ],
   "source": [
    "mtcars2 <- within(mtcars, {\n",
    "  vs <- factor(vs, labels = c(\"V\", \"S\"))\n",
    "  am <- factor(am, labels = c(\"automatic\", \"manual\"))\n",
    "  cyl <- factor(cyl, labels = c(\"4\", \"6\",\"8\"))\n",
    "  gear <- factor(gear, labels = c(\"3\", \"4\",\"5\"))\n",
    "  carb <- factor(carb, labels = c(\"1\", \"2\",\"3\",\"4\",\"6\",\"8\"))\n",
    "})\n",
    "\n",
    "# Paso 1: Inspección de los datos\n",
    "# Mostramos las primeras filas del conjunto de datos mtcars2.\n",
    "# Esto nos permite ver las variables y sus tipos.\n",
    "head(mtcars2)\n",
    "\n",
    "#Comentario:\n",
    "#Aunque las variables Cyl, gear y carb tienen el sentido del orden, lo defino \n",
    "#como \"factor\" porque cilindros de un auto, no se puede comparar con cilindros de otra.\n",
    "\n",
    "#Se puede incorporar \"ordered\" cuando estamos con variables que tienen espacio regular\n",
    "#entre niveles (pocos niveles) tal como temperatura= 20, 40 y 60°C, concentracion de\n",
    "#producto 10, 20 y 30 g/L. En las salidas se entrega resultados con regresión polinomial\n"
   ]
  },
  {
   "cell_type": "code",
   "execution_count": null,
   "id": "e784604d",
   "metadata": {
    "vscode": {
     "languageId": "r"
    }
   },
   "outputs": [
    {
     "data": {
      "text/plain": [
       "\n",
       "Call:\n",
       "lm(formula = mpg ~ cyl + disp + hp + drat + wt + qsec + gear + \n",
       "    carb, data = mtcars2)\n",
       "\n",
       "Residuals:\n",
       "    Min      1Q  Median      3Q     Max \n",
       "-3.6943 -1.1048 -0.1590  0.7579  4.7407 \n",
       "\n",
       "Coefficients:\n",
       "            Estimate Std. Error t value Pr(>|t|)  \n",
       "(Intercept) 25.17505   15.88574   1.585   0.1314  \n",
       "cyl6        -3.12043    2.63244  -1.185   0.2522  \n",
       "cyl8        -2.40081    6.00299  -0.400   0.6942  \n",
       "disp         0.03715    0.02834   1.311   0.2073  \n",
       "hp          -0.06126    0.03393  -1.806   0.0887 .\n",
       "drat         1.22824    2.35984   0.520   0.6094  \n",
       "wt          -4.72407    2.35082  -2.010   0.0606 .\n",
       "qsec         0.37236    0.71972   0.517   0.6116  \n",
       "gear4        2.30651    2.69097   0.857   0.4033  \n",
       "gear5        3.15671    3.11028   1.015   0.3244  \n",
       "carb2       -1.71172    1.73795  -0.985   0.3385  \n",
       "carb3        2.19432    3.91140   0.561   0.5821  \n",
       "carb4       -0.27189    3.73274  -0.073   0.9428  \n",
       "carb6        2.69151    5.52212   0.487   0.6322  \n",
       "carb8        5.49200    7.53308   0.729   0.4759  \n",
       "---\n",
       "Signif. codes:  0 ‘***’ 0.001 ‘**’ 0.01 ‘*’ 0.05 ‘.’ 0.1 ‘ ’ 1\n",
       "\n",
       "Residual standard error: 2.702 on 17 degrees of freedom\n",
       "Multiple R-squared:  0.8898,\tAdjusted R-squared:  0.799 \n",
       "F-statistic: 9.801 on 14 and 17 DF,  p-value: 1.517e-05\n"
      ]
     },
     "metadata": {},
     "output_type": "display_data"
    },
    {
     "data": {
      "text/html": [
       "<table class=\"dataframe\">\n",
       "<caption>A matrix: 6 × 6 of type dbl</caption>\n",
       "<thead>\n",
       "\t<tr><th></th><th scope=col>mpg</th><th scope=col>disp</th><th scope=col>hp</th><th scope=col>drat</th><th scope=col>wt</th><th scope=col>qsec</th></tr>\n",
       "</thead>\n",
       "<tbody>\n",
       "\t<tr><th scope=row>mpg</th><td> 1.0000000</td><td>-0.8475514</td><td>-0.7761684</td><td> 0.68117191</td><td>-0.8676594</td><td> 0.41868403</td></tr>\n",
       "\t<tr><th scope=row>disp</th><td>-0.8475514</td><td> 1.0000000</td><td> 0.7909486</td><td>-0.71021393</td><td> 0.8879799</td><td>-0.43369788</td></tr>\n",
       "\t<tr><th scope=row>hp</th><td>-0.7761684</td><td> 0.7909486</td><td> 1.0000000</td><td>-0.44875912</td><td> 0.6587479</td><td>-0.70822339</td></tr>\n",
       "\t<tr><th scope=row>drat</th><td> 0.6811719</td><td>-0.7102139</td><td>-0.4487591</td><td> 1.00000000</td><td>-0.7124406</td><td> 0.09120476</td></tr>\n",
       "\t<tr><th scope=row>wt</th><td>-0.8676594</td><td> 0.8879799</td><td> 0.6587479</td><td>-0.71244065</td><td> 1.0000000</td><td>-0.17471588</td></tr>\n",
       "\t<tr><th scope=row>qsec</th><td> 0.4186840</td><td>-0.4336979</td><td>-0.7082234</td><td> 0.09120476</td><td>-0.1747159</td><td> 1.00000000</td></tr>\n",
       "</tbody>\n",
       "</table>\n"
      ],
      "text/latex": [
       "A matrix: 6 × 6 of type dbl\n",
       "\\begin{tabular}{r|llllll}\n",
       "  & mpg & disp & hp & drat & wt & qsec\\\\\n",
       "\\hline\n",
       "\tmpg &  1.0000000 & -0.8475514 & -0.7761684 &  0.68117191 & -0.8676594 &  0.41868403\\\\\n",
       "\tdisp & -0.8475514 &  1.0000000 &  0.7909486 & -0.71021393 &  0.8879799 & -0.43369788\\\\\n",
       "\thp & -0.7761684 &  0.7909486 &  1.0000000 & -0.44875912 &  0.6587479 & -0.70822339\\\\\n",
       "\tdrat &  0.6811719 & -0.7102139 & -0.4487591 &  1.00000000 & -0.7124406 &  0.09120476\\\\\n",
       "\twt & -0.8676594 &  0.8879799 &  0.6587479 & -0.71244065 &  1.0000000 & -0.17471588\\\\\n",
       "\tqsec &  0.4186840 & -0.4336979 & -0.7082234 &  0.09120476 & -0.1747159 &  1.00000000\\\\\n",
       "\\end{tabular}\n"
      ],
      "text/markdown": [
       "\n",
       "A matrix: 6 × 6 of type dbl\n",
       "\n",
       "| <!--/--> | mpg | disp | hp | drat | wt | qsec |\n",
       "|---|---|---|---|---|---|---|\n",
       "| mpg |  1.0000000 | -0.8475514 | -0.7761684 |  0.68117191 | -0.8676594 |  0.41868403 |\n",
       "| disp | -0.8475514 |  1.0000000 |  0.7909486 | -0.71021393 |  0.8879799 | -0.43369788 |\n",
       "| hp | -0.7761684 |  0.7909486 |  1.0000000 | -0.44875912 |  0.6587479 | -0.70822339 |\n",
       "| drat |  0.6811719 | -0.7102139 | -0.4487591 |  1.00000000 | -0.7124406 |  0.09120476 |\n",
       "| wt | -0.8676594 |  0.8879799 |  0.6587479 | -0.71244065 |  1.0000000 | -0.17471588 |\n",
       "| qsec |  0.4186840 | -0.4336979 | -0.7082234 |  0.09120476 | -0.1747159 |  1.00000000 |\n",
       "\n"
      ],
      "text/plain": [
       "     mpg        disp       hp         drat        wt         qsec       \n",
       "mpg   1.0000000 -0.8475514 -0.7761684  0.68117191 -0.8676594  0.41868403\n",
       "disp -0.8475514  1.0000000  0.7909486 -0.71021393  0.8879799 -0.43369788\n",
       "hp   -0.7761684  0.7909486  1.0000000 -0.44875912  0.6587479 -0.70822339\n",
       "drat  0.6811719 -0.7102139 -0.4487591  1.00000000 -0.7124406  0.09120476\n",
       "wt   -0.8676594  0.8879799  0.6587479 -0.71244065  1.0000000 -0.17471588\n",
       "qsec  0.4186840 -0.4336979 -0.7082234  0.09120476 -0.1747159  1.00000000"
      ]
     },
     "metadata": {},
     "output_type": "display_data"
    },
    {
     "name": "stderr",
     "output_type": "stream",
     "text": [
      "Installing package into ‘/home/alvarezg/R/x86_64-pc-linux-gnu-library/4.3’\n",
      "(as ‘lib’ is unspecified)\n",
      "\n"
     ]
    },
    {
     "data": {
      "text/html": [
       "<table class=\"dataframe\">\n",
       "<caption>A matrix: 8 × 3 of type dbl</caption>\n",
       "<thead>\n",
       "\t<tr><th></th><th scope=col>GVIF</th><th scope=col>Df</th><th scope=col>GVIF^(1/(2*Df))</th></tr>\n",
       "</thead>\n",
       "<tbody>\n",
       "\t<tr><th scope=row>cyl</th><td> 90.448316</td><td>2</td><td>3.083899</td></tr>\n",
       "\t<tr><th scope=row>disp</th><td> 52.364171</td><td>1</td><td>7.236309</td></tr>\n",
       "\t<tr><th scope=row>hp</th><td> 22.969294</td><td>1</td><td>4.792629</td></tr>\n",
       "\t<tr><th scope=row>drat</th><td>  6.758744</td><td>1</td><td>2.599758</td></tr>\n",
       "\t<tr><th scope=row>wt</th><td> 22.461514</td><td>1</td><td>4.739358</td></tr>\n",
       "\t<tr><th scope=row>qsec</th><td>  7.022074</td><td>1</td><td>2.649920</td></tr>\n",
       "\t<tr><th scope=row>gear</th><td> 27.306684</td><td>2</td><td>2.285953</td></tr>\n",
       "\t<tr><th scope=row>carb</th><td>236.440793</td><td>5</td><td>1.727318</td></tr>\n",
       "</tbody>\n",
       "</table>\n"
      ],
      "text/latex": [
       "A matrix: 8 × 3 of type dbl\n",
       "\\begin{tabular}{r|lll}\n",
       "  & GVIF & Df & GVIF\\textasciicircum{}(1/(2*Df))\\\\\n",
       "\\hline\n",
       "\tcyl &  90.448316 & 2 & 3.083899\\\\\n",
       "\tdisp &  52.364171 & 1 & 7.236309\\\\\n",
       "\thp &  22.969294 & 1 & 4.792629\\\\\n",
       "\tdrat &   6.758744 & 1 & 2.599758\\\\\n",
       "\twt &  22.461514 & 1 & 4.739358\\\\\n",
       "\tqsec &   7.022074 & 1 & 2.649920\\\\\n",
       "\tgear &  27.306684 & 2 & 2.285953\\\\\n",
       "\tcarb & 236.440793 & 5 & 1.727318\\\\\n",
       "\\end{tabular}\n"
      ],
      "text/markdown": [
       "\n",
       "A matrix: 8 × 3 of type dbl\n",
       "\n",
       "| <!--/--> | GVIF | Df | GVIF^(1/(2*Df)) |\n",
       "|---|---|---|---|\n",
       "| cyl |  90.448316 | 2 | 3.083899 |\n",
       "| disp |  52.364171 | 1 | 7.236309 |\n",
       "| hp |  22.969294 | 1 | 4.792629 |\n",
       "| drat |   6.758744 | 1 | 2.599758 |\n",
       "| wt |  22.461514 | 1 | 4.739358 |\n",
       "| qsec |   7.022074 | 1 | 2.649920 |\n",
       "| gear |  27.306684 | 2 | 2.285953 |\n",
       "| carb | 236.440793 | 5 | 1.727318 |\n",
       "\n"
      ],
      "text/plain": [
       "     GVIF       Df GVIF^(1/(2*Df))\n",
       "cyl   90.448316 2  3.083899       \n",
       "disp  52.364171 1  7.236309       \n",
       "hp    22.969294 1  4.792629       \n",
       "drat   6.758744 1  2.599758       \n",
       "wt    22.461514 1  4.739358       \n",
       "qsec   7.022074 1  2.649920       \n",
       "gear  27.306684 2  2.285953       \n",
       "carb 236.440793 5  1.727318       "
      ]
     },
     "metadata": {},
     "output_type": "display_data"
    },
    {
     "data": {
      "text/html": [
       "<table class=\"dataframe\">\n",
       "<caption>A matrix: 8 × 3 of type dbl</caption>\n",
       "<thead>\n",
       "\t<tr><th></th><th scope=col>GVIF</th><th scope=col>Df</th><th scope=col>GVIF^(1/(2*Df))</th></tr>\n",
       "</thead>\n",
       "<tbody>\n",
       "\t<tr><th scope=row>cyl</th><td> 90.448316</td><td>2</td><td> 9.510432</td></tr>\n",
       "\t<tr><th scope=row>disp</th><td> 52.364171</td><td>1</td><td>52.364171</td></tr>\n",
       "\t<tr><th scope=row>hp</th><td> 22.969294</td><td>1</td><td>22.969294</td></tr>\n",
       "\t<tr><th scope=row>drat</th><td>  6.758744</td><td>1</td><td> 6.758744</td></tr>\n",
       "\t<tr><th scope=row>wt</th><td> 22.461514</td><td>1</td><td>22.461514</td></tr>\n",
       "\t<tr><th scope=row>qsec</th><td>  7.022074</td><td>1</td><td> 7.022074</td></tr>\n",
       "\t<tr><th scope=row>gear</th><td> 27.306684</td><td>2</td><td> 5.225580</td></tr>\n",
       "\t<tr><th scope=row>carb</th><td>236.440793</td><td>5</td><td> 2.983627</td></tr>\n",
       "</tbody>\n",
       "</table>\n"
      ],
      "text/latex": [
       "A matrix: 8 × 3 of type dbl\n",
       "\\begin{tabular}{r|lll}\n",
       "  & GVIF & Df & GVIF\\textasciicircum{}(1/(2*Df))\\\\\n",
       "\\hline\n",
       "\tcyl &  90.448316 & 2 &  9.510432\\\\\n",
       "\tdisp &  52.364171 & 1 & 52.364171\\\\\n",
       "\thp &  22.969294 & 1 & 22.969294\\\\\n",
       "\tdrat &   6.758744 & 1 &  6.758744\\\\\n",
       "\twt &  22.461514 & 1 & 22.461514\\\\\n",
       "\tqsec &   7.022074 & 1 &  7.022074\\\\\n",
       "\tgear &  27.306684 & 2 &  5.225580\\\\\n",
       "\tcarb & 236.440793 & 5 &  2.983627\\\\\n",
       "\\end{tabular}\n"
      ],
      "text/markdown": [
       "\n",
       "A matrix: 8 × 3 of type dbl\n",
       "\n",
       "| <!--/--> | GVIF | Df | GVIF^(1/(2*Df)) |\n",
       "|---|---|---|---|\n",
       "| cyl |  90.448316 | 2 |  9.510432 |\n",
       "| disp |  52.364171 | 1 | 52.364171 |\n",
       "| hp |  22.969294 | 1 | 22.969294 |\n",
       "| drat |   6.758744 | 1 |  6.758744 |\n",
       "| wt |  22.461514 | 1 | 22.461514 |\n",
       "| qsec |   7.022074 | 1 |  7.022074 |\n",
       "| gear |  27.306684 | 2 |  5.225580 |\n",
       "| carb | 236.440793 | 5 |  2.983627 |\n",
       "\n"
      ],
      "text/plain": [
       "     GVIF       Df GVIF^(1/(2*Df))\n",
       "cyl   90.448316 2   9.510432      \n",
       "disp  52.364171 1  52.364171      \n",
       "hp    22.969294 1  22.969294      \n",
       "drat   6.758744 1   6.758744      \n",
       "wt    22.461514 1  22.461514      \n",
       "qsec   7.022074 1   7.022074      \n",
       "gear  27.306684 2   5.225580      \n",
       "carb 236.440793 5   2.983627      "
      ]
     },
     "metadata": {},
     "output_type": "display_data"
    }
   ],
   "source": [
    "\n",
    "lin<-lm(mpg~cyl+disp+hp+drat+wt+qsec+gear+carb,data=mtcars2)\n",
    "summary(lin)\n",
    "\n",
    "cor(mtcars[,c(-2,-8,-9,-10,-11)])#Se puede ver ciertas correlaciones altas\n",
    "\n",
    "#install.packages(\"car\")\n",
    "library(car)\n",
    "car::vif(lin)#calculo de los VIF para cada variable tomando en cuenta los grados de libertad de las variables categoricas\n",
    "cal.vif<-car::vif(lin)\n",
    "cal.vif[,3]<-cal.vif[,3]^2\n",
    "cal.vif#hay que considerar el cuadrado para poder ocupar las mismas reglas arbitrarias\n"
   ]
  },
  {
   "cell_type": "code",
   "execution_count": 27,
   "id": "754fc862",
   "metadata": {
    "vscode": {
     "languageId": "r"
    }
   },
   "outputs": [
    {
     "data": {
      "text/html": [
       "<table class=\"dataframe\">\n",
       "<caption>A matrix: 7 × 3 of type dbl</caption>\n",
       "<thead>\n",
       "\t<tr><th></th><th scope=col>GVIF</th><th scope=col>Df</th><th scope=col>GVIF^(1/(2*Df))</th></tr>\n",
       "</thead>\n",
       "<tbody>\n",
       "\t<tr><th scope=row>cyl</th><td>54.243930</td><td>2</td><td>2.713862</td></tr>\n",
       "\t<tr><th scope=row>hp</th><td>22.124404</td><td>1</td><td>4.703659</td></tr>\n",
       "\t<tr><th scope=row>drat</th><td> 6.743876</td><td>1</td><td>2.596897</td></tr>\n",
       "\t<tr><th scope=row>wt</th><td> 9.853265</td><td>1</td><td>3.138991</td></tr>\n",
       "\t<tr><th scope=row>qsec</th><td> 6.949552</td><td>1</td><td>2.636200</td></tr>\n",
       "\t<tr><th scope=row>gear</th><td>23.462346</td><td>2</td><td>2.200862</td></tr>\n",
       "\t<tr><th scope=row>carb</th><td>70.350883</td><td>5</td><td>1.530125</td></tr>\n",
       "</tbody>\n",
       "</table>\n"
      ],
      "text/latex": [
       "A matrix: 7 × 3 of type dbl\n",
       "\\begin{tabular}{r|lll}\n",
       "  & GVIF & Df & GVIF\\textasciicircum{}(1/(2*Df))\\\\\n",
       "\\hline\n",
       "\tcyl & 54.243930 & 2 & 2.713862\\\\\n",
       "\thp & 22.124404 & 1 & 4.703659\\\\\n",
       "\tdrat &  6.743876 & 1 & 2.596897\\\\\n",
       "\twt &  9.853265 & 1 & 3.138991\\\\\n",
       "\tqsec &  6.949552 & 1 & 2.636200\\\\\n",
       "\tgear & 23.462346 & 2 & 2.200862\\\\\n",
       "\tcarb & 70.350883 & 5 & 1.530125\\\\\n",
       "\\end{tabular}\n"
      ],
      "text/markdown": [
       "\n",
       "A matrix: 7 × 3 of type dbl\n",
       "\n",
       "| <!--/--> | GVIF | Df | GVIF^(1/(2*Df)) |\n",
       "|---|---|---|---|\n",
       "| cyl | 54.243930 | 2 | 2.713862 |\n",
       "| hp | 22.124404 | 1 | 4.703659 |\n",
       "| drat |  6.743876 | 1 | 2.596897 |\n",
       "| wt |  9.853265 | 1 | 3.138991 |\n",
       "| qsec |  6.949552 | 1 | 2.636200 |\n",
       "| gear | 23.462346 | 2 | 2.200862 |\n",
       "| carb | 70.350883 | 5 | 1.530125 |\n",
       "\n"
      ],
      "text/plain": [
       "     GVIF      Df GVIF^(1/(2*Df))\n",
       "cyl  54.243930 2  2.713862       \n",
       "hp   22.124404 1  4.703659       \n",
       "drat  6.743876 1  2.596897       \n",
       "wt    9.853265 1  3.138991       \n",
       "qsec  6.949552 1  2.636200       \n",
       "gear 23.462346 2  2.200862       \n",
       "carb 70.350883 5  1.530125       "
      ]
     },
     "metadata": {},
     "output_type": "display_data"
    },
    {
     "data": {
      "text/html": [
       "<table class=\"dataframe\">\n",
       "<caption>A matrix: 7 × 3 of type dbl</caption>\n",
       "<thead>\n",
       "\t<tr><th></th><th scope=col>GVIF</th><th scope=col>Df</th><th scope=col>GVIF^(1/(2*Df))</th></tr>\n",
       "</thead>\n",
       "<tbody>\n",
       "\t<tr><th scope=row>cyl</th><td>54.243930</td><td>2</td><td> 7.365048</td></tr>\n",
       "\t<tr><th scope=row>hp</th><td>22.124404</td><td>1</td><td>22.124404</td></tr>\n",
       "\t<tr><th scope=row>drat</th><td> 6.743876</td><td>1</td><td> 6.743876</td></tr>\n",
       "\t<tr><th scope=row>wt</th><td> 9.853265</td><td>1</td><td> 9.853265</td></tr>\n",
       "\t<tr><th scope=row>qsec</th><td> 6.949552</td><td>1</td><td> 6.949552</td></tr>\n",
       "\t<tr><th scope=row>gear</th><td>23.462346</td><td>2</td><td> 4.843795</td></tr>\n",
       "\t<tr><th scope=row>carb</th><td>70.350883</td><td>5</td><td> 2.341283</td></tr>\n",
       "</tbody>\n",
       "</table>\n"
      ],
      "text/latex": [
       "A matrix: 7 × 3 of type dbl\n",
       "\\begin{tabular}{r|lll}\n",
       "  & GVIF & Df & GVIF\\textasciicircum{}(1/(2*Df))\\\\\n",
       "\\hline\n",
       "\tcyl & 54.243930 & 2 &  7.365048\\\\\n",
       "\thp & 22.124404 & 1 & 22.124404\\\\\n",
       "\tdrat &  6.743876 & 1 &  6.743876\\\\\n",
       "\twt &  9.853265 & 1 &  9.853265\\\\\n",
       "\tqsec &  6.949552 & 1 &  6.949552\\\\\n",
       "\tgear & 23.462346 & 2 &  4.843795\\\\\n",
       "\tcarb & 70.350883 & 5 &  2.341283\\\\\n",
       "\\end{tabular}\n"
      ],
      "text/markdown": [
       "\n",
       "A matrix: 7 × 3 of type dbl\n",
       "\n",
       "| <!--/--> | GVIF | Df | GVIF^(1/(2*Df)) |\n",
       "|---|---|---|---|\n",
       "| cyl | 54.243930 | 2 |  7.365048 |\n",
       "| hp | 22.124404 | 1 | 22.124404 |\n",
       "| drat |  6.743876 | 1 |  6.743876 |\n",
       "| wt |  9.853265 | 1 |  9.853265 |\n",
       "| qsec |  6.949552 | 1 |  6.949552 |\n",
       "| gear | 23.462346 | 2 |  4.843795 |\n",
       "| carb | 70.350883 | 5 |  2.341283 |\n",
       "\n"
      ],
      "text/plain": [
       "     GVIF      Df GVIF^(1/(2*Df))\n",
       "cyl  54.243930 2   7.365048      \n",
       "hp   22.124404 1  22.124404      \n",
       "drat  6.743876 1   6.743876      \n",
       "wt    9.853265 1   9.853265      \n",
       "qsec  6.949552 1   6.949552      \n",
       "gear 23.462346 2   4.843795      \n",
       "carb 70.350883 5   2.341283      "
      ]
     },
     "metadata": {},
     "output_type": "display_data"
    },
    {
     "data": {
      "text/plain": [
       "\n",
       "Call:\n",
       "lm(formula = mpg ~ cyl + hp + drat + wt + qsec + gear + carb, \n",
       "    data = mtcars2)\n",
       "\n",
       "Residuals:\n",
       "    Min      1Q  Median      3Q     Max \n",
       "-3.6235 -1.3786 -0.0600  0.7341  4.2550 \n",
       "\n",
       "Coefficients:\n",
       "            Estimate Std. Error t value Pr(>|t|)\n",
       "(Intercept) 25.13782   16.19958   1.552    0.138\n",
       "cyl6        -1.65385    2.42993  -0.681    0.505\n",
       "cyl8         2.57615    4.74164   0.543    0.594\n",
       "hp          -0.05273    0.03395  -1.553    0.138\n",
       "drat         1.37332    2.40382   0.571    0.575\n",
       "wt          -2.41532    1.58777  -1.521    0.146\n",
       "qsec         0.27648    0.73014   0.379    0.709\n",
       "gear4        1.36086    2.64369   0.515    0.613\n",
       "gear5        3.51842    3.15923   1.114    0.280\n",
       "carb2       -2.02936    1.75497  -1.156    0.263\n",
       "carb3       -1.69936    2.59505  -0.655    0.521\n",
       "carb4       -1.48245    3.68815  -0.402    0.692\n",
       "carb6       -0.64043    4.99919  -0.128    0.899\n",
       "carb8        1.15798    6.90246   0.168    0.869\n",
       "\n",
       "Residual standard error: 2.756 on 18 degrees of freedom\n",
       "Multiple R-squared:  0.8786,\tAdjusted R-squared:  0.791 \n",
       "F-statistic: 10.02 on 13 and 18 DF,  p-value: 9.722e-06\n"
      ]
     },
     "metadata": {},
     "output_type": "display_data"
    },
    {
     "data": {
      "text/html": [
       "<table class=\"dataframe\">\n",
       "<caption>A matrix: 6 × 3 of type dbl</caption>\n",
       "<thead>\n",
       "\t<tr><th></th><th scope=col>GVIF</th><th scope=col>Df</th><th scope=col>GVIF^(1/(2*Df))</th></tr>\n",
       "</thead>\n",
       "<tbody>\n",
       "\t<tr><th scope=row>cyl</th><td>26.874548</td><td>2</td><td>2.276855</td></tr>\n",
       "\t<tr><th scope=row>drat</th><td> 6.737126</td><td>1</td><td>2.595598</td></tr>\n",
       "\t<tr><th scope=row>wt</th><td> 9.840902</td><td>1</td><td>3.137021</td></tr>\n",
       "\t<tr><th scope=row>qsec</th><td> 6.920746</td><td>1</td><td>2.630731</td></tr>\n",
       "\t<tr><th scope=row>gear</th><td>15.539744</td><td>2</td><td>1.985459</td></tr>\n",
       "\t<tr><th scope=row>carb</th><td>25.511695</td><td>5</td><td>1.382528</td></tr>\n",
       "</tbody>\n",
       "</table>\n"
      ],
      "text/latex": [
       "A matrix: 6 × 3 of type dbl\n",
       "\\begin{tabular}{r|lll}\n",
       "  & GVIF & Df & GVIF\\textasciicircum{}(1/(2*Df))\\\\\n",
       "\\hline\n",
       "\tcyl & 26.874548 & 2 & 2.276855\\\\\n",
       "\tdrat &  6.737126 & 1 & 2.595598\\\\\n",
       "\twt &  9.840902 & 1 & 3.137021\\\\\n",
       "\tqsec &  6.920746 & 1 & 2.630731\\\\\n",
       "\tgear & 15.539744 & 2 & 1.985459\\\\\n",
       "\tcarb & 25.511695 & 5 & 1.382528\\\\\n",
       "\\end{tabular}\n"
      ],
      "text/markdown": [
       "\n",
       "A matrix: 6 × 3 of type dbl\n",
       "\n",
       "| <!--/--> | GVIF | Df | GVIF^(1/(2*Df)) |\n",
       "|---|---|---|---|\n",
       "| cyl | 26.874548 | 2 | 2.276855 |\n",
       "| drat |  6.737126 | 1 | 2.595598 |\n",
       "| wt |  9.840902 | 1 | 3.137021 |\n",
       "| qsec |  6.920746 | 1 | 2.630731 |\n",
       "| gear | 15.539744 | 2 | 1.985459 |\n",
       "| carb | 25.511695 | 5 | 1.382528 |\n",
       "\n"
      ],
      "text/plain": [
       "     GVIF      Df GVIF^(1/(2*Df))\n",
       "cyl  26.874548 2  2.276855       \n",
       "drat  6.737126 1  2.595598       \n",
       "wt    9.840902 1  3.137021       \n",
       "qsec  6.920746 1  2.630731       \n",
       "gear 15.539744 2  1.985459       \n",
       "carb 25.511695 5  1.382528       "
      ]
     },
     "metadata": {},
     "output_type": "display_data"
    },
    {
     "data": {
      "text/html": [
       "<table class=\"dataframe\">\n",
       "<caption>A matrix: 6 × 3 of type dbl</caption>\n",
       "<thead>\n",
       "\t<tr><th></th><th scope=col>GVIF</th><th scope=col>Df</th><th scope=col>GVIF^(1/(2*Df))</th></tr>\n",
       "</thead>\n",
       "<tbody>\n",
       "\t<tr><th scope=row>cyl</th><td>26.874548</td><td>2</td><td>5.184067</td></tr>\n",
       "\t<tr><th scope=row>drat</th><td> 6.737126</td><td>1</td><td>6.737126</td></tr>\n",
       "\t<tr><th scope=row>wt</th><td> 9.840902</td><td>1</td><td>9.840902</td></tr>\n",
       "\t<tr><th scope=row>qsec</th><td> 6.920746</td><td>1</td><td>6.920746</td></tr>\n",
       "\t<tr><th scope=row>gear</th><td>15.539744</td><td>2</td><td>3.942048</td></tr>\n",
       "\t<tr><th scope=row>carb</th><td>25.511695</td><td>5</td><td>1.911384</td></tr>\n",
       "</tbody>\n",
       "</table>\n"
      ],
      "text/latex": [
       "A matrix: 6 × 3 of type dbl\n",
       "\\begin{tabular}{r|lll}\n",
       "  & GVIF & Df & GVIF\\textasciicircum{}(1/(2*Df))\\\\\n",
       "\\hline\n",
       "\tcyl & 26.874548 & 2 & 5.184067\\\\\n",
       "\tdrat &  6.737126 & 1 & 6.737126\\\\\n",
       "\twt &  9.840902 & 1 & 9.840902\\\\\n",
       "\tqsec &  6.920746 & 1 & 6.920746\\\\\n",
       "\tgear & 15.539744 & 2 & 3.942048\\\\\n",
       "\tcarb & 25.511695 & 5 & 1.911384\\\\\n",
       "\\end{tabular}\n"
      ],
      "text/markdown": [
       "\n",
       "A matrix: 6 × 3 of type dbl\n",
       "\n",
       "| <!--/--> | GVIF | Df | GVIF^(1/(2*Df)) |\n",
       "|---|---|---|---|\n",
       "| cyl | 26.874548 | 2 | 5.184067 |\n",
       "| drat |  6.737126 | 1 | 6.737126 |\n",
       "| wt |  9.840902 | 1 | 9.840902 |\n",
       "| qsec |  6.920746 | 1 | 6.920746 |\n",
       "| gear | 15.539744 | 2 | 3.942048 |\n",
       "| carb | 25.511695 | 5 | 1.911384 |\n",
       "\n"
      ],
      "text/plain": [
       "     GVIF      Df GVIF^(1/(2*Df))\n",
       "cyl  26.874548 2  5.184067       \n",
       "drat  6.737126 1  6.737126       \n",
       "wt    9.840902 1  9.840902       \n",
       "qsec  6.920746 1  6.920746       \n",
       "gear 15.539744 2  3.942048       \n",
       "carb 25.511695 5  1.911384       "
      ]
     },
     "metadata": {},
     "output_type": "display_data"
    },
    {
     "data": {
      "text/plain": [
       "\n",
       "Call:\n",
       "lm(formula = mpg ~ cyl + drat + wt + qsec + gear + carb, data = mtcars2)\n",
       "\n",
       "Residuals:\n",
       "    Min      1Q  Median      3Q     Max \n",
       "-4.5286 -1.3415  0.0000  0.9339  4.6307 \n",
       "\n",
       "Coefficients:\n",
       "            Estimate Std. Error t value Pr(>|t|)\n",
       "(Intercept)  21.9428    16.6549   1.318    0.203\n",
       "cyl6         -1.5003     2.5165  -0.596    0.558\n",
       "cyl8         -1.6272     4.0355  -0.403    0.691\n",
       "drat          1.2552     2.4903   0.504    0.620\n",
       "wt           -2.5027     1.6447  -1.522    0.145\n",
       "qsec          0.2035     0.7552   0.269    0.791\n",
       "gear4         2.5728     2.6181   0.983    0.338\n",
       "gear5         2.2858     3.1695   0.721    0.480\n",
       "carb2        -1.5570     1.7915  -0.869    0.396\n",
       "carb3        -1.8036     2.6889  -0.671    0.510\n",
       "carb4        -4.0459     3.4186  -1.183    0.251\n",
       "carb6        -3.7936     4.7351  -0.801    0.433\n",
       "carb8        -6.0811     5.2769  -1.152    0.263\n",
       "\n",
       "Residual standard error: 2.856 on 19 degrees of freedom\n",
       "Multiple R-squared:  0.8624,\tAdjusted R-squared:  0.7754 \n",
       "F-statistic: 9.919 on 12 and 19 DF,  p-value: 8.35e-06\n"
      ]
     },
     "metadata": {},
     "output_type": "display_data"
    },
    {
     "data": {
      "text/html": [
       "<table class=\"dataframe\">\n",
       "<caption>A matrix: 5 × 3 of type dbl</caption>\n",
       "<thead>\n",
       "\t<tr><th></th><th scope=col>GVIF</th><th scope=col>Df</th><th scope=col>GVIF^(1/(2*Df))</th></tr>\n",
       "</thead>\n",
       "<tbody>\n",
       "\t<tr><th scope=row>cyl</th><td>14.151380</td><td>2</td><td>1.939544</td></tr>\n",
       "\t<tr><th scope=row>drat</th><td> 6.737035</td><td>1</td><td>2.595580</td></tr>\n",
       "\t<tr><th scope=row>wt</th><td> 6.016477</td><td>1</td><td>2.452851</td></tr>\n",
       "\t<tr><th scope=row>gear</th><td>11.994621</td><td>2</td><td>1.861001</td></tr>\n",
       "\t<tr><th scope=row>carb</th><td>17.926314</td><td>5</td><td>1.334594</td></tr>\n",
       "</tbody>\n",
       "</table>\n"
      ],
      "text/latex": [
       "A matrix: 5 × 3 of type dbl\n",
       "\\begin{tabular}{r|lll}\n",
       "  & GVIF & Df & GVIF\\textasciicircum{}(1/(2*Df))\\\\\n",
       "\\hline\n",
       "\tcyl & 14.151380 & 2 & 1.939544\\\\\n",
       "\tdrat &  6.737035 & 1 & 2.595580\\\\\n",
       "\twt &  6.016477 & 1 & 2.452851\\\\\n",
       "\tgear & 11.994621 & 2 & 1.861001\\\\\n",
       "\tcarb & 17.926314 & 5 & 1.334594\\\\\n",
       "\\end{tabular}\n"
      ],
      "text/markdown": [
       "\n",
       "A matrix: 5 × 3 of type dbl\n",
       "\n",
       "| <!--/--> | GVIF | Df | GVIF^(1/(2*Df)) |\n",
       "|---|---|---|---|\n",
       "| cyl | 14.151380 | 2 | 1.939544 |\n",
       "| drat |  6.737035 | 1 | 2.595580 |\n",
       "| wt |  6.016477 | 1 | 2.452851 |\n",
       "| gear | 11.994621 | 2 | 1.861001 |\n",
       "| carb | 17.926314 | 5 | 1.334594 |\n",
       "\n"
      ],
      "text/plain": [
       "     GVIF      Df GVIF^(1/(2*Df))\n",
       "cyl  14.151380 2  1.939544       \n",
       "drat  6.737035 1  2.595580       \n",
       "wt    6.016477 1  2.452851       \n",
       "gear 11.994621 2  1.861001       \n",
       "carb 17.926314 5  1.334594       "
      ]
     },
     "metadata": {},
     "output_type": "display_data"
    },
    {
     "data": {
      "text/html": [
       "<table class=\"dataframe\">\n",
       "<caption>A matrix: 5 × 3 of type dbl</caption>\n",
       "<thead>\n",
       "\t<tr><th></th><th scope=col>GVIF</th><th scope=col>Df</th><th scope=col>GVIF^(1/(2*Df))</th></tr>\n",
       "</thead>\n",
       "<tbody>\n",
       "\t<tr><th scope=row>cyl</th><td>14.151380</td><td>2</td><td>3.761832</td></tr>\n",
       "\t<tr><th scope=row>drat</th><td> 6.737035</td><td>1</td><td>6.737035</td></tr>\n",
       "\t<tr><th scope=row>wt</th><td> 6.016477</td><td>1</td><td>6.016477</td></tr>\n",
       "\t<tr><th scope=row>gear</th><td>11.994621</td><td>2</td><td>3.463325</td></tr>\n",
       "\t<tr><th scope=row>carb</th><td>17.926314</td><td>5</td><td>1.781141</td></tr>\n",
       "</tbody>\n",
       "</table>\n"
      ],
      "text/latex": [
       "A matrix: 5 × 3 of type dbl\n",
       "\\begin{tabular}{r|lll}\n",
       "  & GVIF & Df & GVIF\\textasciicircum{}(1/(2*Df))\\\\\n",
       "\\hline\n",
       "\tcyl & 14.151380 & 2 & 3.761832\\\\\n",
       "\tdrat &  6.737035 & 1 & 6.737035\\\\\n",
       "\twt &  6.016477 & 1 & 6.016477\\\\\n",
       "\tgear & 11.994621 & 2 & 3.463325\\\\\n",
       "\tcarb & 17.926314 & 5 & 1.781141\\\\\n",
       "\\end{tabular}\n"
      ],
      "text/markdown": [
       "\n",
       "A matrix: 5 × 3 of type dbl\n",
       "\n",
       "| <!--/--> | GVIF | Df | GVIF^(1/(2*Df)) |\n",
       "|---|---|---|---|\n",
       "| cyl | 14.151380 | 2 | 3.761832 |\n",
       "| drat |  6.737035 | 1 | 6.737035 |\n",
       "| wt |  6.016477 | 1 | 6.016477 |\n",
       "| gear | 11.994621 | 2 | 3.463325 |\n",
       "| carb | 17.926314 | 5 | 1.781141 |\n",
       "\n"
      ],
      "text/plain": [
       "     GVIF      Df GVIF^(1/(2*Df))\n",
       "cyl  14.151380 2  3.761832       \n",
       "drat  6.737035 1  6.737035       \n",
       "wt    6.016477 1  6.016477       \n",
       "gear 11.994621 2  3.463325       \n",
       "carb 17.926314 5  1.781141       "
      ]
     },
     "metadata": {},
     "output_type": "display_data"
    },
    {
     "data": {
      "text/plain": [
       "\n",
       "Call:\n",
       "lm(formula = mpg ~ cyl + drat + wt + gear + carb, data = mtcars2)\n",
       "\n",
       "Residuals:\n",
       "    Min      1Q  Median      3Q     Max \n",
       "-4.7546 -1.2962  0.0000  0.8764  4.8003 \n",
       "\n",
       "Coefficients:\n",
       "            Estimate Std. Error t value Pr(>|t|)  \n",
       "(Intercept)   25.228     11.081   2.277   0.0339 *\n",
       "cyl6          -1.699      2.350  -0.723   0.4780  \n",
       "cyl8          -2.335      2.992  -0.780   0.4444  \n",
       "drat           1.258      2.432   0.517   0.6107  \n",
       "wt            -2.226      1.256  -1.773   0.0915 .\n",
       "gear4          2.650      2.541   1.043   0.3094  \n",
       "gear5          2.060      2.985   0.690   0.4981  \n",
       "carb2         -1.644      1.721  -0.955   0.3508  \n",
       "carb3         -1.860      2.618  -0.711   0.4856  \n",
       "carb4         -4.469      2.966  -1.507   0.1475  \n",
       "carb6         -4.274      4.284  -0.998   0.3303  \n",
       "carb8         -6.457      4.970  -1.299   0.2087  \n",
       "---\n",
       "Signif. codes:  0 ‘***’ 0.001 ‘**’ 0.01 ‘*’ 0.05 ‘.’ 0.1 ‘ ’ 1\n",
       "\n",
       "Residual standard error: 2.789 on 20 degrees of freedom\n",
       "Multiple R-squared:  0.8618,\tAdjusted R-squared:  0.7858 \n",
       "F-statistic: 11.34 on 11 and 20 DF,  p-value: 2.448e-06\n"
      ]
     },
     "metadata": {},
     "output_type": "display_data"
    }
   ],
   "source": [
    "\n",
    "###################################################\n",
    "#1a solución: eliminar las variables problematicas#\n",
    "###################################################\n",
    "\n",
    "#eliminamos la variable con el VIF el más alto\n",
    "lin2<-lm(mpg~cyl+hp+drat+wt+qsec+gear+carb,data=mtcars2)\n",
    "car::vif(lin2)\n",
    "cal.vif2<-car::vif(lin2)\n",
    "cal.vif2[,3]<-cal.vif2[,3]^2\n",
    "cal.vif2\n",
    "summary(lin2)\n",
    "\n",
    "#el VIF asociado a la variable \"hp\" sigue alto\n",
    "\n",
    "lin3<-lm(mpg~cyl+drat+wt+qsec+gear+carb,data=mtcars2)\n",
    "car::vif(lin3)\n",
    "cal.vif3<-car::vif(lin3)\n",
    "cal.vif3[,3]<-cal.vif3[,3]^2\n",
    "cal.vif3\n",
    "summary(lin3)#Se puede eliminar otras variables de este modelo en una etapa posterior, pero en esta etapa hemos arreglado el problema de colinealidad.\n",
    "\n",
    "#quizas seria un error eliminar \"wt\" porque es la variable la más significativa y la \n",
    "#mas correlacionada con mpg. Podemos parar aquí o seguir eliminando \"qsec\".\n",
    "\n",
    "lin4<-lm(mpg~cyl+drat+wt+gear+carb,data=mtcars2)\n",
    "car::vif(lin4)\n",
    "cal.vif4<-car::vif(lin4)\n",
    "cal.vif4[,3]<-cal.vif4[,3]^2\n",
    "cal.vif4\n",
    "summary(lin4)#Ninguna variable parece pertinente en este modelo, salvo quizás la variable \"carb\". El modelo 3 es mejor.\n"
   ]
  },
  {
   "cell_type": "code",
   "execution_count": 28,
   "id": "07c7a31b",
   "metadata": {
    "vscode": {
     "languageId": "r"
    }
   },
   "outputs": [
    {
     "name": "stderr",
     "output_type": "stream",
     "text": [
      "Installing package into ‘/home/alvarezg/R/x86_64-pc-linux-gnu-library/4.3’\n",
      "(as ‘lib’ is unspecified)\n",
      "\n",
      "Warning message:\n",
      "“package ‘MASS’ is not available for this version of R\n",
      "‘MASS’ version 7.3-65 is in the repositories but depends on R (>= 4.4.0)\n",
      "‘MASS’ version 7.3-65 is in the repositories but depends on R (>= 4.6)\n",
      "\n",
      "A version of this package for your version of R might be available elsewhere,\n",
      "see the ideas at\n",
      "https://cran.r-project.org/doc/manuals/r-patched/R-admin.html#Installing-packages”\n"
     ]
    },
    {
     "data": {
      "text/plain": [
       "                   cyl6        cyl8        disp          hp        drat \n",
       "25.17505065 -3.12043420 -2.40081391  0.03714512 -0.06126315  1.22823951 \n",
       "         wt        qsec       gear4       gear5       carb2       carb3 \n",
       "-4.72406714  0.37236151  2.30650672  3.15671480 -1.71172237  2.19432372 \n",
       "      carb4       carb6       carb8 \n",
       "-0.27189226  2.69151310  5.49199638 "
      ]
     },
     "metadata": {},
     "output_type": "display_data"
    },
    {
     "data": {
      "text/html": [
       "<style>\n",
       ".dl-inline {width: auto; margin:0; padding: 0}\n",
       ".dl-inline>dt, .dl-inline>dd {float: none; width: auto; display: inline-block}\n",
       ".dl-inline>dt::after {content: \":\\0020\"; padding-right: .5ex}\n",
       ".dl-inline>dt:not(:first-of-type) {padding-left: .5ex}\n",
       "</style><dl class=dl-inline><dt>cyl6</dt><dd>-0.516565031203851</dd><dt>cyl8</dt><dd>-0.628784466757051</dd><dt>disp</dt><dd>-0.80717809829557</dd><dt>hp</dt><dd>-1.00589758408189</dd><dt>drat</dt><dd>0.808667256973784</dd><dt>wt</dt><dd>-1.37018033895591</dd><dt>qsec</dt><dd>0.259838808545138</dd><dt>gear4</dt><dd>0.433345508037365</dd><dt>gear5</dt><dd>0.356433014691824</dd><dt>carb2</dt><dd>-0.0311719157497187</dd><dt>carb3</dt><dd>-0.211743056922503</dd><dt>carb4</dt><dd>-0.821366101624594</dd><dt>carb6</dt><dd>-0.198078213120523</dd><dt>carb8</dt><dd>-0.182500299590125</dd></dl>\n"
      ],
      "text/latex": [
       "\\begin{description*}\n",
       "\\item[cyl6] -0.516565031203851\n",
       "\\item[cyl8] -0.628784466757051\n",
       "\\item[disp] -0.80717809829557\n",
       "\\item[hp] -1.00589758408189\n",
       "\\item[drat] 0.808667256973784\n",
       "\\item[wt] -1.37018033895591\n",
       "\\item[qsec] 0.259838808545138\n",
       "\\item[gear4] 0.433345508037365\n",
       "\\item[gear5] 0.356433014691824\n",
       "\\item[carb2] -0.0311719157497187\n",
       "\\item[carb3] -0.211743056922503\n",
       "\\item[carb4] -0.821366101624594\n",
       "\\item[carb6] -0.198078213120523\n",
       "\\item[carb8] -0.182500299590125\n",
       "\\end{description*}\n"
      ],
      "text/markdown": [
       "cyl6\n",
       ":   -0.516565031203851cyl8\n",
       ":   -0.628784466757051disp\n",
       ":   -0.80717809829557hp\n",
       ":   -1.00589758408189drat\n",
       ":   0.808667256973784wt\n",
       ":   -1.37018033895591qsec\n",
       ":   0.259838808545138gear4\n",
       ":   0.433345508037365gear5\n",
       ":   0.356433014691824carb2\n",
       ":   -0.0311719157497187carb3\n",
       ":   -0.211743056922503carb4\n",
       ":   -0.821366101624594carb6\n",
       ":   -0.198078213120523carb8\n",
       ":   -0.182500299590125\n",
       "\n"
      ],
      "text/plain": [
       "       cyl6        cyl8        disp          hp        drat          wt \n",
       "-0.51656503 -0.62878447 -0.80717810 -1.00589758  0.80866726 -1.37018034 \n",
       "       qsec       gear4       gear5       carb2       carb3       carb4 \n",
       " 0.25983881  0.43334551  0.35643301 -0.03117192 -0.21174306 -0.82136610 \n",
       "      carb6       carb8 \n",
       "-0.19807821 -0.18250030 "
      ]
     },
     "metadata": {},
     "output_type": "display_data"
    },
    {
     "data": {
      "image/png": "[encoded data removed]",
      "text/plain": [
       "plot without title"
      ]
     },
     "metadata": {
      "image/png": {
       "height": 420,
       "width": 420
      }
     },
     "output_type": "display_data"
    }
   ],
   "source": [
    "####################################\n",
    "#2a solución: Hacer regresión ridge#\n",
    "####################################\n",
    "\n",
    "install.packages(\"MASS\")\n",
    "library(MASS)\n",
    "lm.ridge(mpg~cyl+disp+hp+drat+wt+qsec+gear+carb,data=mtcars2, lambda = 0)#NO ridge regression\n",
    "h<-seq(14, 15, by=0.01)\n",
    "rid<-lm.ridge(mpg~cyl+disp+hp+drat+wt+qsec+gear+carb,data=mtcars2, lambda = h)#ridge regression\n",
    "#rid$GCV\n",
    "#rid$coef[,48]\n",
    "#Para ubicar exactamente el punto optimal y aplicarlo \n",
    "\n",
    "plot(h,rid$GCV)\n",
    "\n",
    "rid<-lm.ridge(mpg~cyl+disp+hp+drat+wt+qsec+gear+carb,data=mtcars2, lambda = 14.65)\n",
    "rid$coef#estimación con el parametro \"ridge\" optimal"
   ]
  },
  {
   "cell_type": "code",
   "execution_count": 30,
   "id": "7d49a7c8",
   "metadata": {
    "vscode": {
     "languageId": "r"
    }
   },
   "outputs": [
    {
     "name": "stdout",
     "output_type": "stream",
     "text": [
      "Data: \tX dimension: 32 5 \n",
      "\tY dimension: 32 1\n",
      "Fit method: svdpc\n",
      "Number of components considered: 4\n",
      "\n",
      "VALIDATION: RMSEP\n",
      "Cross-validated using 32 leave-one-out segments.\n",
      "       (Intercept)  1 comps  2 comps  3 comps  4 comps\n",
      "CV           6.123    2.803    2.789    2.841    2.872\n",
      "adjCV        6.123    2.799    2.785    2.836    2.867\n",
      "\n",
      "TRAINING: % variance explained\n",
      "     1 comps  2 comps  3 comps  4 comps\n",
      "X      66.77    89.64    96.12    98.63\n",
      "mpg    80.94    81.51    82.18    82.21\n"
     ]
    },
    {
     "data": {
      "text/html": [
       "<style>\n",
       ".dl-inline {width: auto; margin:0; padding: 0}\n",
       ".dl-inline>dt, .dl-inline>dd {float: none; width: auto; display: inline-block}\n",
       ".dl-inline>dt::after {content: \":\\0020\"; padding-right: .5ex}\n",
       ".dl-inline>dt:not(:first-of-type) {padding-left: .5ex}\n",
       "</style><dl class=dl-inline><dt>Comp 1</dt><dd>66.774920144795</dd><dt>Comp 2</dt><dd>22.8668899332977</dd><dt>Comp 3</dt><dd>6.4804477286418</dd><dt>Comp 4</dt><dd>2.50847474915124</dd></dl>\n"
      ],
      "text/latex": [
       "\\begin{description*}\n",
       "\\item[Comp 1] 66.774920144795\n",
       "\\item[Comp 2] 22.8668899332977\n",
       "\\item[Comp 3] 6.4804477286418\n",
       "\\item[Comp 4] 2.50847474915124\n",
       "\\end{description*}\n"
      ],
      "text/markdown": [
       "Comp 1\n",
       ":   66.774920144795Comp 2\n",
       ":   22.8668899332977Comp 3\n",
       ":   6.4804477286418Comp 4\n",
       ":   2.50847474915124\n",
       "\n"
      ],
      "text/plain": [
       "   Comp 1    Comp 2    Comp 3    Comp 4 \n",
       "66.774920 22.866890  6.480448  2.508475 "
      ]
     },
     "metadata": {},
     "output_type": "display_data"
    },
    {
     "name": "stdout",
     "output_type": "stream",
     "text": [
      "Data: \tX dimension: 32 5 \n",
      "\tY dimension: 32 1\n",
      "Fit method: svdpc\n",
      "Number of components considered: 1\n",
      "\n",
      "VALIDATION: RMSEP\n",
      "Cross-validated using 32 leave-one-out segments.\n",
      "       (Intercept)  1 comps\n",
      "CV           6.123    2.803\n",
      "adjCV        6.123    2.799\n",
      "\n",
      "TRAINING: % variance explained\n",
      "     1 comps\n",
      "X      66.77\n",
      "mpg    80.94\n"
     ]
    },
    {
     "data": {
      "image/png": "[encoded data removed]",
      "text/plain": [
       "Plot with title “mpg”"
      ]
     },
     "metadata": {
      "image/png": {
       "height": 420,
       "width": 420
      }
     },
     "output_type": "display_data"
    },
    {
     "data": {
      "image/png": "[encoded data removed]",
      "text/plain": [
       "Plot with title “mpg, 1 comps, validation”"
      ]
     },
     "metadata": {
      "image/png": {
       "height": 420,
       "width": 420
      }
     },
     "output_type": "display_data"
    }
   ],
   "source": [
    "################################################################\n",
    "#3a solución: Hacer regresión PCR (o de manera alternativa PLS)#\n",
    "################################################################\n",
    "\n",
    "#install.packages(\"pls\")\n",
    "library(pls)\n",
    "\n",
    "PCRmtcars <- pcr(mpg~disp+hp+drat+wt+qsec, scale = TRUE,ncomp = 4, data = mtcars, validation = \"LOO\")\n",
    "summary(PCRmtcars)#El criterio RMSE sugiere un solo componente\n",
    "\n",
    "plot(RMSEP(PCRmtcars), legendpos = \"topright\")#Grafico del \"CV\"\n",
    "\n",
    "explvar(PCRmtcars)#variabilidad explicada por los regresores\n",
    "\n",
    "#Las salidas nos sugiere ocupar un solo componente considerando el porcentaje de \"mpg\" explicado. La alternativa 2 componentes podría no ser una buena opción (es verdad que con 2 tenemos \"CV\" más bajo que con un solo componente, pero son cercanos). Sin embargo podemos trabajar con 2 componentes igual que explica 90% de variabilidad por los \"X\". Las dos soluciones son buenas\n",
    "\n",
    "#Quizás dado que el objetivo es explicar \"mpg\" y que agregar un segundo y tercer componentes no aporta mucho, quedamos nos con un solo componente\n",
    "\n",
    "PCRmtcars2 <- pcr(mpg~disp+hp+drat+wt+qsec, scale = TRUE,ncomp = 1, data = mtcars, validation = \"LOO\")\n",
    "summary(PCRmtcars2)#PCR con un solo componente\n",
    "\n",
    "plot(PCRmtcars2, ncomp = 1, asp = 1, line = TRUE)#Cuidado que las predicciones siguen las observaciones, pero cuidado que las predicciones fueron calculadas con el mismo conjunto de datos que sirvieron a estimar el modelo"
   ]
  },
  {
   "cell_type": "code",
   "execution_count": 31,
   "id": "8c520db9",
   "metadata": {
    "vscode": {
     "languageId": "r"
    }
   },
   "outputs": [
    {
     "name": "stdout",
     "output_type": "stream",
     "text": [
      "Data: \tX dimension: 32 5 \n",
      "\tY dimension: 32 1\n",
      "Fit method: kernelpls\n",
      "Number of components considered: 4\n",
      "\n",
      "VALIDATION: RMSEP\n",
      "Cross-validated using 32 leave-one-out segments.\n",
      "       (Intercept)  1 comps  2 comps  3 comps  4 comps\n",
      "CV           6.123    2.786    2.800    2.822    2.874\n",
      "adjCV        6.123    2.783    2.797    2.816    2.864\n",
      "\n",
      "TRAINING: % variance explained\n",
      "     1 comps  2 comps  3 comps  4 comps\n",
      "X      66.73    86.57    94.70    97.51\n",
      "mpg    81.50    82.54    83.85    84.89\n"
     ]
    }
   ],
   "source": [
    "\n",
    "#####################################################################\n",
    "#Solución cercana al PCR, la regresión PLS (Partially Least Squares)#\n",
    "#####################################################################\n",
    "\n",
    "pls.mtcars <- plsr(mpg~disp+hp+drat+wt+qsec, scale = TRUE,ncomp = 4, data = mtcars, validation = \"LOO\")\n",
    "summary(pls.mtcars)#Vamos con un solo componente también\n"
   ]
  }
 ],
 "metadata": {
  "kernelspec": {
   "display_name": "R",
   "language": "R",
   "name": "ir"
  },
  "language_info": {
   "codemirror_mode": "r",
   "file_extension": ".r",
   "mimetype": "text/x-r-source",
   "name": "R",
   "pygments_lexer": "r",
   "version": "4.3.3"
  }
 },
 "nbformat": 4,
 "nbformat_minor": 5
}
