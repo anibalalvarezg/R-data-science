{
 "cells": [
  {
   "cell_type": "code",
   "execution_count": null,
   "id": "50de4fd8",
   "metadata": {
    "vscode": {
     "languageId": "r"
    }
   },
   "outputs": [
    {
     "data": {
      "text/html": [
       "<table class=\"dataframe\">\n",
       "<caption>A data.frame: 6 × 4</caption>\n",
       "<thead>\n",
       "\t<tr><th></th><th scope=col>x</th><th scope=col>y</th><th scope=col>z</th><th scope=col>yp</th></tr>\n",
       "\t<tr><th></th><th scope=col>&lt;dbl&gt;</th><th scope=col>&lt;dbl&gt;</th><th scope=col>&lt;dbl&gt;</th><th scope=col>&lt;dbl&gt;</th></tr>\n",
       "</thead>\n",
       "<tbody>\n",
       "\t<tr><th scope=row>1</th><td>-4.21842808</td><td>-8.394880</td><td> -5.820490</td><td> 13.6829574</td></tr>\n",
       "\t<tr><th scope=row>2</th><td> 2.16408018</td><td> 1.614316</td><td>-11.181409</td><td> 21.6489728</td></tr>\n",
       "\t<tr><th scope=row>3</th><td> 2.49332689</td><td> 8.426829</td><td>  2.377681</td><td>  0.6848144</td></tr>\n",
       "\t<tr><th scope=row>4</th><td>-0.08491329</td><td> 1.883756</td><td>  5.354970</td><td> -6.6563580</td></tr>\n",
       "\t<tr><th scope=row>5</th><td> 0.29552862</td><td>-4.514781</td><td> -7.652210</td><td> 12.1985806</td></tr>\n",
       "\t<tr><th scope=row>6</th><td> 2.91662215</td><td> 5.248486</td><td>  6.832961</td><td>-12.2506809</td></tr>\n",
       "</tbody>\n",
       "</table>\n"
      ],
      "text/latex": [
       "A data.frame: 6 × 4\n",
       "\\begin{tabular}{r|llll}\n",
       "  & x & y & z & yp\\\\\n",
       "  & <dbl> & <dbl> & <dbl> & <dbl>\\\\\n",
       "\\hline\n",
       "\t1 & -4.21842808 & -8.394880 &  -5.820490 &  13.6829574\\\\\n",
       "\t2 &  2.16408018 &  1.614316 & -11.181409 &  21.6489728\\\\\n",
       "\t3 &  2.49332689 &  8.426829 &   2.377681 &   0.6848144\\\\\n",
       "\t4 & -0.08491329 &  1.883756 &   5.354970 &  -6.6563580\\\\\n",
       "\t5 &  0.29552862 & -4.514781 &  -7.652210 &  12.1985806\\\\\n",
       "\t6 &  2.91662215 &  5.248486 &   6.832961 & -12.2506809\\\\\n",
       "\\end{tabular}\n"
      ],
      "text/markdown": [
       "\n",
       "A data.frame: 6 × 4\n",
       "\n",
       "| <!--/--> | x &lt;dbl&gt; | y &lt;dbl&gt; | z &lt;dbl&gt; | yp &lt;dbl&gt; |\n",
       "|---|---|---|---|---|\n",
       "| 1 | -4.21842808 | -8.394880 |  -5.820490 |  13.6829574 |\n",
       "| 2 |  2.16408018 |  1.614316 | -11.181409 |  21.6489728 |\n",
       "| 3 |  2.49332689 |  8.426829 |   2.377681 |   0.6848144 |\n",
       "| 4 | -0.08491329 |  1.883756 |   5.354970 |  -6.6563580 |\n",
       "| 5 |  0.29552862 | -4.514781 |  -7.652210 |  12.1985806 |\n",
       "| 6 |  2.91662215 |  5.248486 |   6.832961 | -12.2506809 |\n",
       "\n"
      ],
      "text/plain": [
       "  x           y         z          yp         \n",
       "1 -4.21842808 -8.394880  -5.820490  13.6829574\n",
       "2  2.16408018  1.614316 -11.181409  21.6489728\n",
       "3  2.49332689  8.426829   2.377681   0.6848144\n",
       "4 -0.08491329  1.883756   5.354970  -6.6563580\n",
       "5  0.29552862 -4.514781  -7.652210  12.1985806\n",
       "6  2.91662215  5.248486   6.832961 -12.2506809"
      ]
     },
     "metadata": {},
     "output_type": "display_data"
    }
   ],
   "source": [
    "# Paso 1: Generamos el componente de error o \"ruido\".\n",
    "# rnorm(20) crea 20 números aleatorios de una distribución normal (media 0, desv. estándar 1).\n",
    "# Al multiplicar por 3, aumentamos su dispersión (ahora la desv. estándar es 3).\n",
    "eps <- rnorm(20) * 3\n",
    "\n",
    "# Creamos la variable independiente 'x' con una desviación estándar de 4.\n",
    "x <- rnorm(20) * 4\n",
    "\n",
    "# Creamos la variable independiente 'z' con una desviación estándar de 6.\n",
    "z <- rnorm(20) * 6\n",
    "\n",
    "# Ahora, establecemos relaciones lineales.\n",
    "# 'y' depende positivamente de 'x' (y = 2x + 1) más el ruido.\n",
    "y <- 2 * x + 1 + eps\n",
    "# 'yp' depende negativamente de 'z' (yp = -2z + 3) más el mismo ruido.\n",
    "yp <- -2 * z + 3 + eps\n",
    "\n",
    "# --- Inspección de los datos ---\n",
    "# Usamos data.frame() para unir nuestros vectores en una tabla.\n",
    "# head() nos muestra las primeras 6 filas de esa tabla.\n",
    "# Esto es crucial para verificar que los datos se han generado como esperamos.\n",
    "head(data.frame(x, y, z, yp))"
   ]
  },
  {
   "cell_type": "code",
   "execution_count": 4,
   "id": "d9ba22ef",
   "metadata": {
    "vscode": {
     "languageId": "r"
    }
   },
   "outputs": [
    {
     "data": {
      "image/png": "[encoded data removed]",
      "text/plain": [
       "plot without title"
      ]
     },
     "metadata": {
      "image/png": {
       "height": 420,
       "width": 420
      }
     },
     "output_type": "display_data"
    }
   ],
   "source": [
    "# Paso 2: preparamos la ventana gráfica para mostrar dos gráficos en una misma fila (1 fila, 2 columnas).\n",
    "# Es una forma eficiente de comparar visualizaciones.\n",
    "par(mfrow = c(1, 2))\n",
    "\n",
    "# Creamos el primer gráfico de dispersión: Y en función de X.\n",
    "# matplot() es una función versátil para graficar columnas de matrices o data frames.\n",
    "# pch = 1 define el símbolo del punto (un círculo).\n",
    "# xlab y ylab son las etiquetas de los ejes.\n",
    "matplot(x, y, pch = 1, xlab = \"X\", ylab = \"Y\")\n",
    "\n",
    "# Creamos el segundo gráfico de dispersión: Y' en función de Z.\n",
    "matplot(z, yp, pch = 1, xlab = \"Z\", ylab = \"Y'\")"
   ]
  },
  {
   "cell_type": "code",
   "execution_count": 5,
   "id": "d626d1a0",
   "metadata": {
    "vscode": {
     "languageId": "r"
    }
   },
   "outputs": [
    {
     "data": {
      "text/plain": [
       "\n",
       "\tPearson's product-moment correlation\n",
       "\n",
       "data:  z and yp\n",
       "t = -18.281, df = 18, p-value = 4.518e-13\n",
       "alternative hypothesis: true correlation is not equal to 0\n",
       "95 percent confidence interval:\n",
       " -0.9899147 -0.9343586\n",
       "sample estimates:\n",
       "       cor \n",
       "-0.9741108 \n"
      ]
     },
     "metadata": {},
     "output_type": "display_data"
    },
    {
     "data": {
      "text/plain": [
       "\n",
       "\tPearson's product-moment correlation\n",
       "\n",
       "data:  x and y\n",
       "t = 6.4797, df = 18, p-value = 4.283e-06\n",
       "alternative hypothesis: true correlation is not equal to 0\n",
       "95 percent confidence interval:\n",
       " 0.6257757 0.9335286\n",
       "sample estimates:\n",
       "      cor \n",
       "0.8366206 \n"
      ]
     },
     "metadata": {},
     "output_type": "display_data"
    },
    {
     "data": {
      "text/plain": [
       "\n",
       "\tSpearman's rank correlation rho\n",
       "\n",
       "data:  z and yp\n",
       "S = 2600, p-value = 6.321e-06\n",
       "alternative hypothesis: true rho is not equal to 0\n",
       "sample estimates:\n",
       "       rho \n",
       "-0.9548872 \n"
      ]
     },
     "metadata": {},
     "output_type": "display_data"
    },
    {
     "data": {
      "text/plain": [
       "\n",
       "\tSpearman's rank correlation rho\n",
       "\n",
       "data:  x and y\n",
       "S = 288, p-value = 6.305e-05\n",
       "alternative hypothesis: true rho is not equal to 0\n",
       "sample estimates:\n",
       "      rho \n",
       "0.7834586 \n"
      ]
     },
     "metadata": {},
     "output_type": "display_data"
    },
    {
     "data": {
      "text/plain": [
       "\n",
       "\tKendall's rank correlation tau\n",
       "\n",
       "data:  z and yp\n",
       "T = 17, p-value = 4.608e-09\n",
       "alternative hypothesis: true tau is not equal to 0\n",
       "sample estimates:\n",
       "       tau \n",
       "-0.8210526 \n"
      ]
     },
     "metadata": {},
     "output_type": "display_data"
    },
    {
     "data": {
      "text/plain": [
       "\n",
       "\tKendall's rank correlation tau\n",
       "\n",
       "data:  x and y\n",
       "T = 149, p-value = 0.0002659\n",
       "alternative hypothesis: true tau is not equal to 0\n",
       "sample estimates:\n",
       "      tau \n",
       "0.5684211 \n"
      ]
     },
     "metadata": {},
     "output_type": "display_data"
    }
   ],
   "source": [
    "# --- Correlación de Pearson (por defecto) ---\n",
    "# Mide la fuerza de una relación LINEAL. El coeficiente va de -1 a 1.\n",
    "# Esperamos una correlación fuerte y negativa para (z, yp).\n",
    "cor.test(z, yp)\n",
    "# Esperamos una correlación fuerte y positiva para (x, y).\n",
    "cor.test(x, y)\n",
    "\n",
    "# --- Correlación de Spearman ---\n",
    "# Es una prueba no paramétrica basada en rangos.\n",
    "# Mide si la relación es monotónica (siempre creciente o decreciente), pero no necesariamente lineal.\n",
    "# Es útil si sospechamos de valores atípicos o una relación no lineal.\n",
    "cor.test(z, yp, method = \"spearman\")\n",
    "cor.test(x, y, method = \"spearman\")\n",
    "\n",
    "# --- Correlación de Kendall ---\n",
    "# Otra prueba no paramétrica basada en rangos.\n",
    "# Mide la concordancia en la dirección de los pares de puntos. Es robusta y a menudo usada\n",
    "# con datos más pequeños o con muchos empates.\n",
    "cor.test(z, yp, method = \"kendall\")\n",
    "cor.test(x, y, method = \"kendall\")"
   ]
  }
 ],
 "metadata": {
  "kernelspec": {
   "display_name": "R",
   "language": "R",
   "name": "ir"
  },
  "language_info": {
   "codemirror_mode": "r",
   "file_extension": ".r",
   "mimetype": "text/x-r-source",
   "name": "R",
   "pygments_lexer": "r",
   "version": "4.3.3"
  }
 },
 "nbformat": 4,
 "nbformat_minor": 5
}
