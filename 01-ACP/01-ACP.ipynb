{
 "cells": [
  {
   "cell_type": "code",
   "execution_count": null,
   "id": "26f71995",
   "metadata": {
    "vscode": {
     "languageId": "r"
    }
   },
   "outputs": [
    {
     "data": {
      "text/html": [
       "<table class=\"dataframe\">\n",
       "<caption>A data.frame: 6 × 8</caption>\n",
       "<thead>\n",
       "\t<tr><th></th><th scope=col>CYL</th><th scope=col>POT</th><th scope=col>LAR</th><th scope=col>ANCHO</th><th scope=col>PESO</th><th scope=col>VEL</th><th scope=col>LUJO</th><th scope=col>PRECIO</th></tr>\n",
       "\t<tr><th></th><th scope=col>&lt;int&gt;</th><th scope=col>&lt;int&gt;</th><th scope=col>&lt;int&gt;</th><th scope=col>&lt;int&gt;</th><th scope=col>&lt;int&gt;</th><th scope=col>&lt;int&gt;</th><th scope=col>&lt;fct&gt;</th><th scope=col>&lt;int&gt;</th></tr>\n",
       "</thead>\n",
       "<tbody>\n",
       "\t<tr><th scope=row>ALFASUD-TI-1350</th><td>1350</td><td>79</td><td>393</td><td>161</td><td> 870</td><td>165</td><td>B </td><td>30570</td></tr>\n",
       "\t<tr><th scope=row>AUDI-100-L</th><td>1588</td><td>85</td><td>468</td><td>177</td><td>1110</td><td>160</td><td>MB</td><td>39990</td></tr>\n",
       "\t<tr><th scope=row>SIMCA-1307-GLS</th><td>1294</td><td>68</td><td>424</td><td>168</td><td>1050</td><td>152</td><td>P </td><td>29600</td></tr>\n",
       "\t<tr><th scope=row>CITROEN-GS-CLUB</th><td>1222</td><td>59</td><td>412</td><td>161</td><td> 930</td><td>151</td><td>P </td><td>28250</td></tr>\n",
       "\t<tr><th scope=row>FIAT-132-1600GLS</th><td>1585</td><td>98</td><td>439</td><td>164</td><td>1105</td><td>165</td><td>B </td><td>34900</td></tr>\n",
       "\t<tr><th scope=row>LANCIA-BETA-1300</th><td>1297</td><td>82</td><td>429</td><td>169</td><td>1080</td><td>160</td><td>MB</td><td>35480</td></tr>\n",
       "</tbody>\n",
       "</table>\n"
      ],
      "text/latex": [
       "A data.frame: 6 × 8\n",
       "\\begin{tabular}{r|llllllll}\n",
       "  & CYL & POT & LAR & ANCHO & PESO & VEL & LUJO & PRECIO\\\\\n",
       "  & <int> & <int> & <int> & <int> & <int> & <int> & <fct> & <int>\\\\\n",
       "\\hline\n",
       "\tALFASUD-TI-1350 & 1350 & 79 & 393 & 161 &  870 & 165 & B  & 30570\\\\\n",
       "\tAUDI-100-L & 1588 & 85 & 468 & 177 & 1110 & 160 & MB & 39990\\\\\n",
       "\tSIMCA-1307-GLS & 1294 & 68 & 424 & 168 & 1050 & 152 & P  & 29600\\\\\n",
       "\tCITROEN-GS-CLUB & 1222 & 59 & 412 & 161 &  930 & 151 & P  & 28250\\\\\n",
       "\tFIAT-132-1600GLS & 1585 & 98 & 439 & 164 & 1105 & 165 & B  & 34900\\\\\n",
       "\tLANCIA-BETA-1300 & 1297 & 82 & 429 & 169 & 1080 & 160 & MB & 35480\\\\\n",
       "\\end{tabular}\n"
      ],
      "text/markdown": [
       "\n",
       "A data.frame: 6 × 8\n",
       "\n",
       "| <!--/--> | CYL &lt;int&gt; | POT &lt;int&gt; | LAR &lt;int&gt; | ANCHO &lt;int&gt; | PESO &lt;int&gt; | VEL &lt;int&gt; | LUJO &lt;fct&gt; | PRECIO &lt;int&gt; |\n",
       "|---|---|---|---|---|---|---|---|---|\n",
       "| ALFASUD-TI-1350 | 1350 | 79 | 393 | 161 |  870 | 165 | B  | 30570 |\n",
       "| AUDI-100-L | 1588 | 85 | 468 | 177 | 1110 | 160 | MB | 39990 |\n",
       "| SIMCA-1307-GLS | 1294 | 68 | 424 | 168 | 1050 | 152 | P  | 29600 |\n",
       "| CITROEN-GS-CLUB | 1222 | 59 | 412 | 161 |  930 | 151 | P  | 28250 |\n",
       "| FIAT-132-1600GLS | 1585 | 98 | 439 | 164 | 1105 | 165 | B  | 34900 |\n",
       "| LANCIA-BETA-1300 | 1297 | 82 | 429 | 169 | 1080 | 160 | MB | 35480 |\n",
       "\n"
      ],
      "text/plain": [
       "                 CYL  POT LAR ANCHO PESO VEL LUJO PRECIO\n",
       "ALFASUD-TI-1350  1350 79  393 161    870 165 B    30570 \n",
       "AUDI-100-L       1588 85  468 177   1110 160 MB   39990 \n",
       "SIMCA-1307-GLS   1294 68  424 168   1050 152 P    29600 \n",
       "CITROEN-GS-CLUB  1222 59  412 161    930 151 P    28250 \n",
       "FIAT-132-1600GLS 1585 98  439 164   1105 165 B    34900 \n",
       "LANCIA-BETA-1300 1297 82  429 169   1080 160 MB   35480 "
      ]
     },
     "metadata": {},
     "output_type": "display_data"
    }
   ],
   "source": [
    "# Paso 1: Cargar el dataset desde el mismo directorio\n",
    "# Usamos read.table para leer los datos desde un archivo de texto.\n",
    "# El argumento header=TRUE indica que la primera fila contiene los nombres de las columnas.\n",
    "# stringsAsFactors=TRUE convierte las columnas de texto en factores.\n",
    "# sep=\"\" usa el separador por defecto (espacio o tabulación).\n",
    "# na.strings=\"NA\" identifica los valores faltantes.\n",
    "# dec=\".\" indica el punto como separador decimal.\n",
    "# strip.white=TRUE elimina espacios en blanco extra.\n",
    "# row.names=\"NOMBRE\" usa la columna 'NOMBRE' como identificador de fila.\n",
    "Dataset <- read.table(\"autos.txt\",\n",
    "                      header=TRUE,\n",
    "                      stringsAsFactors=TRUE,\n",
    "                      sep=\"\",\n",
    "                      na.strings=\"NA\",\n",
    "                      dec=\".\",\n",
    "                      strip.white=TRUE,\n",
    "                      row.names=\"NOMBRE\")\n",
    "\n",
    "# Visualiza las primeras filas para verificar\n",
    "\n",
    "head(Dataset)"
   ]
  },
  {
   "cell_type": "code",
   "execution_count": 6,
   "id": "ccdf5d2f",
   "metadata": {
    "vscode": {
     "languageId": "r"
    }
   },
   "outputs": [
    {
     "data": {
      "text/html": [
       "<table class=\"dataframe\">\n",
       "<caption>A matrix: 7 × 7 of type dbl</caption>\n",
       "<thead>\n",
       "\t<tr><th></th><th scope=col>ANCHO</th><th scope=col>CYL</th><th scope=col>LAR</th><th scope=col>PESO</th><th scope=col>POT</th><th scope=col>PRECIO</th><th scope=col>VEL</th></tr>\n",
       "</thead>\n",
       "<tbody>\n",
       "\t<tr><th scope=row>ANCHO</th><td>1.0000000</td><td>0.6297572</td><td>0.8492664</td><td>0.7168739</td><td>0.5208320</td><td>0.5466494</td><td>0.4729453</td></tr>\n",
       "\t<tr><th scope=row>CYL</th><td>0.6297572</td><td>1.0000000</td><td>0.7014619</td><td>0.7889520</td><td>0.7966277</td><td>0.6385812</td><td>0.6649340</td></tr>\n",
       "\t<tr><th scope=row>LAR</th><td>0.8492664</td><td>0.7014619</td><td>1.0000000</td><td>0.8680903</td><td>0.6413624</td><td>0.6437569</td><td>0.4759285</td></tr>\n",
       "\t<tr><th scope=row>PESO</th><td>0.7168739</td><td>0.7889520</td><td>0.8680903</td><td>1.0000000</td><td>0.7652930</td><td>0.7532948</td><td>0.4775956</td></tr>\n",
       "\t<tr><th scope=row>POT</th><td>0.5208320</td><td>0.7966277</td><td>0.6413624</td><td>0.7652930</td><td>1.0000000</td><td>0.7987004</td><td>0.8443795</td></tr>\n",
       "\t<tr><th scope=row>PRECIO</th><td>0.5466494</td><td>0.6385812</td><td>0.6437569</td><td>0.7532948</td><td>0.7987004</td><td>1.0000000</td><td>0.5817597</td></tr>\n",
       "\t<tr><th scope=row>VEL</th><td>0.4729453</td><td>0.6649340</td><td>0.4759285</td><td>0.4775956</td><td>0.8443795</td><td>0.5817597</td><td>1.0000000</td></tr>\n",
       "</tbody>\n",
       "</table>\n"
      ],
      "text/latex": [
       "A matrix: 7 × 7 of type dbl\n",
       "\\begin{tabular}{r|lllllll}\n",
       "  & ANCHO & CYL & LAR & PESO & POT & PRECIO & VEL\\\\\n",
       "\\hline\n",
       "\tANCHO & 1.0000000 & 0.6297572 & 0.8492664 & 0.7168739 & 0.5208320 & 0.5466494 & 0.4729453\\\\\n",
       "\tCYL & 0.6297572 & 1.0000000 & 0.7014619 & 0.7889520 & 0.7966277 & 0.6385812 & 0.6649340\\\\\n",
       "\tLAR & 0.8492664 & 0.7014619 & 1.0000000 & 0.8680903 & 0.6413624 & 0.6437569 & 0.4759285\\\\\n",
       "\tPESO & 0.7168739 & 0.7889520 & 0.8680903 & 1.0000000 & 0.7652930 & 0.7532948 & 0.4775956\\\\\n",
       "\tPOT & 0.5208320 & 0.7966277 & 0.6413624 & 0.7652930 & 1.0000000 & 0.7987004 & 0.8443795\\\\\n",
       "\tPRECIO & 0.5466494 & 0.6385812 & 0.6437569 & 0.7532948 & 0.7987004 & 1.0000000 & 0.5817597\\\\\n",
       "\tVEL & 0.4729453 & 0.6649340 & 0.4759285 & 0.4775956 & 0.8443795 & 0.5817597 & 1.0000000\\\\\n",
       "\\end{tabular}\n"
      ],
      "text/markdown": [
       "\n",
       "A matrix: 7 × 7 of type dbl\n",
       "\n",
       "| <!--/--> | ANCHO | CYL | LAR | PESO | POT | PRECIO | VEL |\n",
       "|---|---|---|---|---|---|---|---|\n",
       "| ANCHO | 1.0000000 | 0.6297572 | 0.8492664 | 0.7168739 | 0.5208320 | 0.5466494 | 0.4729453 |\n",
       "| CYL | 0.6297572 | 1.0000000 | 0.7014619 | 0.7889520 | 0.7966277 | 0.6385812 | 0.6649340 |\n",
       "| LAR | 0.8492664 | 0.7014619 | 1.0000000 | 0.8680903 | 0.6413624 | 0.6437569 | 0.4759285 |\n",
       "| PESO | 0.7168739 | 0.7889520 | 0.8680903 | 1.0000000 | 0.7652930 | 0.7532948 | 0.4775956 |\n",
       "| POT | 0.5208320 | 0.7966277 | 0.6413624 | 0.7652930 | 1.0000000 | 0.7987004 | 0.8443795 |\n",
       "| PRECIO | 0.5466494 | 0.6385812 | 0.6437569 | 0.7532948 | 0.7987004 | 1.0000000 | 0.5817597 |\n",
       "| VEL | 0.4729453 | 0.6649340 | 0.4759285 | 0.4775956 | 0.8443795 | 0.5817597 | 1.0000000 |\n",
       "\n"
      ],
      "text/plain": [
       "       ANCHO     CYL       LAR       PESO      POT       PRECIO    VEL      \n",
       "ANCHO  1.0000000 0.6297572 0.8492664 0.7168739 0.5208320 0.5466494 0.4729453\n",
       "CYL    0.6297572 1.0000000 0.7014619 0.7889520 0.7966277 0.6385812 0.6649340\n",
       "LAR    0.8492664 0.7014619 1.0000000 0.8680903 0.6413624 0.6437569 0.4759285\n",
       "PESO   0.7168739 0.7889520 0.8680903 1.0000000 0.7652930 0.7532948 0.4775956\n",
       "POT    0.5208320 0.7966277 0.6413624 0.7652930 1.0000000 0.7987004 0.8443795\n",
       "PRECIO 0.5466494 0.6385812 0.6437569 0.7532948 0.7987004 1.0000000 0.5817597\n",
       "VEL    0.4729453 0.6649340 0.4759285 0.4775956 0.8443795 0.5817597 1.0000000"
      ]
     },
     "metadata": {},
     "output_type": "display_data"
    }
   ],
   "source": [
    "# Paso 2: Calcular la matriz de correlación entre variables numéricas\n",
    "# Usamos la función cor() para obtener la correlación entre las variables seleccionadas.\n",
    "# El argumento use=\"complete\" indica que solo se usan filas sin valores faltantes.\n",
    "\n",
    "# Seleccionamos las variables numéricas relevantes\n",
    "variables_numericas <- c(\"ANCHO\", \"CYL\", \"LAR\", \"PESO\", \"POT\", \"PRECIO\", \"VEL\")\n",
    "\n",
    "# Calculamos la matriz de correlación\n",
    "corr <- cor(Dataset[, variables_numericas], use=\"complete\")\n",
    "\n",
    "# Mostramos la matriz de correlación\n",
    "corr"
   ]
  },
  {
   "cell_type": "code",
   "execution_count": 10,
   "id": "11d333ee",
   "metadata": {
    "vscode": {
     "languageId": "r"
    }
   },
   "outputs": [
    {
     "data": {
      "text/plain": [
       "\n",
       "\u001b[32m\u001b[1m✔\u001b[22m\u001b[39m The \u001b[1mBartlett's test of sphericity\u001b[22m was \u001b[32m\u001b[1msignificant\u001b[22m\u001b[39m at an alpha level of .05.\n",
       "\u001b[1m \u001b[22m These data are probably suitable for factor analysis.\n",
       "\n",
       "\u001b[1m  \u001b[22m𝜒²(21) = 109.96, \u001b[3mp\u001b[23m < .001"
      ]
     },
     "metadata": {},
     "output_type": "display_data"
    },
    {
     "data": {
      "text/plain": [
       "\n",
       "\u001b[34m──\u001b[39m \u001b[34mKaiser-Meyer-Olkin criterion (KMO)\u001b[39m \u001b[34m──────────────────────────────────────────\u001b[39m\n",
       "\n",
       "\u001b[32m\u001b[1m✔\u001b[22m\u001b[39m The overall KMO value for your data is \u001b[32m\u001b[1mmiddling\u001b[22m\u001b[39m.\n",
       "\u001b[1m \u001b[22m These data are probably suitable for factor analysis.\n",
       "\n",
       "\u001b[1m \u001b[22m \u001b[34mOverall:\u001b[39m \u001b[1m0.79\u001b[22m\n",
       "\n",
       "\u001b[1m \u001b[22m \u001b[34mFor each variable:\u001b[39m\n",
       " ANCHO    CYL    LAR   PESO    POT PRECIO    VEL \n",
       " 0.792  0.929  0.827  0.762  0.717  0.900  0.651 "
      ]
     },
     "metadata": {},
     "output_type": "display_data"
    }
   ],
   "source": [
    "# Paso 3: Evaluar la adecuación de los datos para análisis factorial\n",
    "# Usamos el test de esfericidad de Bartlett y la medida KMO para verificar si es apropiado realizar análisis factorial.\n",
    "\n",
    "# Cargamos la librería EFAtools (instálala si no la tienes: install.packages(\"EFAtools\"))\n",
    "# install.packages(\"EFAtools\")\n",
    "library(EFAtools)\n",
    "\n",
    "# Test de esfericidad de Bartlett\n",
    "BARTLETT(corr, N = nrow(Dataset))\n",
    "\n",
    "# Medida de adecuación muestral KMO\n",
    "KMO(corr)"
   ]
  },
  {
   "cell_type": "code",
   "execution_count": 11,
   "id": "f058909d",
   "metadata": {
    "vscode": {
     "languageId": "r"
    }
   },
   "outputs": [
    {
     "data": {
      "text/html": [
       "<table class=\"dataframe\">\n",
       "<caption>A data.frame: 6 × 8</caption>\n",
       "<thead>\n",
       "\t<tr><th></th><th scope=col>CYL</th><th scope=col>POT</th><th scope=col>LAR</th><th scope=col>ANCHO</th><th scope=col>PESO</th><th scope=col>VEL</th><th scope=col>PRECIO</th><th scope=col>LUJO</th></tr>\n",
       "\t<tr><th></th><th scope=col>&lt;int&gt;</th><th scope=col>&lt;int&gt;</th><th scope=col>&lt;int&gt;</th><th scope=col>&lt;int&gt;</th><th scope=col>&lt;int&gt;</th><th scope=col>&lt;int&gt;</th><th scope=col>&lt;int&gt;</th><th scope=col>&lt;fct&gt;</th></tr>\n",
       "</thead>\n",
       "<tbody>\n",
       "\t<tr><th scope=row>ALFASUD-TI-1350</th><td>1350</td><td>79</td><td>393</td><td>161</td><td> 870</td><td>165</td><td>30570</td><td>B </td></tr>\n",
       "\t<tr><th scope=row>AUDI-100-L</th><td>1588</td><td>85</td><td>468</td><td>177</td><td>1110</td><td>160</td><td>39990</td><td>MB</td></tr>\n",
       "\t<tr><th scope=row>SIMCA-1307-GLS</th><td>1294</td><td>68</td><td>424</td><td>168</td><td>1050</td><td>152</td><td>29600</td><td>P </td></tr>\n",
       "\t<tr><th scope=row>CITROEN-GS-CLUB</th><td>1222</td><td>59</td><td>412</td><td>161</td><td> 930</td><td>151</td><td>28250</td><td>P </td></tr>\n",
       "\t<tr><th scope=row>FIAT-132-1600GLS</th><td>1585</td><td>98</td><td>439</td><td>164</td><td>1105</td><td>165</td><td>34900</td><td>B </td></tr>\n",
       "\t<tr><th scope=row>LANCIA-BETA-1300</th><td>1297</td><td>82</td><td>429</td><td>169</td><td>1080</td><td>160</td><td>35480</td><td>MB</td></tr>\n",
       "</tbody>\n",
       "</table>\n"
      ],
      "text/latex": [
       "A data.frame: 6 × 8\n",
       "\\begin{tabular}{r|llllllll}\n",
       "  & CYL & POT & LAR & ANCHO & PESO & VEL & PRECIO & LUJO\\\\\n",
       "  & <int> & <int> & <int> & <int> & <int> & <int> & <int> & <fct>\\\\\n",
       "\\hline\n",
       "\tALFASUD-TI-1350 & 1350 & 79 & 393 & 161 &  870 & 165 & 30570 & B \\\\\n",
       "\tAUDI-100-L & 1588 & 85 & 468 & 177 & 1110 & 160 & 39990 & MB\\\\\n",
       "\tSIMCA-1307-GLS & 1294 & 68 & 424 & 168 & 1050 & 152 & 29600 & P \\\\\n",
       "\tCITROEN-GS-CLUB & 1222 & 59 & 412 & 161 &  930 & 151 & 28250 & P \\\\\n",
       "\tFIAT-132-1600GLS & 1585 & 98 & 439 & 164 & 1105 & 165 & 34900 & B \\\\\n",
       "\tLANCIA-BETA-1300 & 1297 & 82 & 429 & 169 & 1080 & 160 & 35480 & MB\\\\\n",
       "\\end{tabular}\n"
      ],
      "text/markdown": [
       "\n",
       "A data.frame: 6 × 8\n",
       "\n",
       "| <!--/--> | CYL &lt;int&gt; | POT &lt;int&gt; | LAR &lt;int&gt; | ANCHO &lt;int&gt; | PESO &lt;int&gt; | VEL &lt;int&gt; | PRECIO &lt;int&gt; | LUJO &lt;fct&gt; |\n",
       "|---|---|---|---|---|---|---|---|---|\n",
       "| ALFASUD-TI-1350 | 1350 | 79 | 393 | 161 |  870 | 165 | 30570 | B  |\n",
       "| AUDI-100-L | 1588 | 85 | 468 | 177 | 1110 | 160 | 39990 | MB |\n",
       "| SIMCA-1307-GLS | 1294 | 68 | 424 | 168 | 1050 | 152 | 29600 | P  |\n",
       "| CITROEN-GS-CLUB | 1222 | 59 | 412 | 161 |  930 | 151 | 28250 | P  |\n",
       "| FIAT-132-1600GLS | 1585 | 98 | 439 | 164 | 1105 | 165 | 34900 | B  |\n",
       "| LANCIA-BETA-1300 | 1297 | 82 | 429 | 169 | 1080 | 160 | 35480 | MB |\n",
       "\n"
      ],
      "text/plain": [
       "                 CYL  POT LAR ANCHO PESO VEL PRECIO LUJO\n",
       "ALFASUD-TI-1350  1350 79  393 161    870 165 30570  B   \n",
       "AUDI-100-L       1588 85  468 177   1110 160 39990  MB  \n",
       "SIMCA-1307-GLS   1294 68  424 168   1050 152 29600  P   \n",
       "CITROEN-GS-CLUB  1222 59  412 161    930 151 28250  P   \n",
       "FIAT-132-1600GLS 1585 98  439 164   1105 165 34900  B   \n",
       "LANCIA-BETA-1300 1297 82  429 169   1080 160 35480  MB  "
      ]
     },
     "metadata": {},
     "output_type": "display_data"
    }
   ],
   "source": [
    "# Paso 4: Seleccionar variables para el análisis de componentes principales (PCA)\n",
    "# Elegimos las variables numéricas y la variable cualitativa 'LUJO' para el análisis.\n",
    "# PCA permite reducir la dimensionalidad y explorar la estructura de los datos.\n",
    "\n",
    "Dataset.PCA <- Dataset[, c(\"CYL\", \"POT\", \"LAR\", \"ANCHO\", \"PESO\", \"VEL\", \"PRECIO\", \"LUJO\")]\n",
    "\n",
    "# Visualizamos las primeras filas para verificar la selección\n",
    "head(Dataset.PCA)"
   ]
  },
  {
   "cell_type": "code",
   "execution_count": 16,
   "id": "c947a5d8",
   "metadata": {
    "vscode": {
     "languageId": "r"
    }
   },
   "outputs": [
    {
     "name": "stdout",
     "output_type": "stream",
     "text": [
      "\n",
      "Call:\n",
      "PCA(X = Dataset.PCA, scale.unit = TRUE, ncp = 5, quali.sup = c(8:8),  \n",
      "     graph = FALSE) \n",
      "\n",
      "\n",
      "Eigenvalues\n",
      "                       Dim.1   Dim.2   Dim.3   Dim.4   Dim.5   Dim.6   Dim.7\n",
      "Variance               5.070   0.867   0.454   0.323   0.163   0.082   0.041\n",
      "% of var.             72.428  12.389   6.490   4.613   2.327   1.164   0.589\n",
      "Cumulative % of var.  72.428  84.817  91.307  95.920  98.247  99.411 100.000\n",
      "\n",
      "Individuals (the 10 first)\n",
      "                     Dist    Dim.1    ctr   cos2    Dim.2    ctr   cos2  \n",
      "ALFASUD-TI-1350  |  2.922 | -2.186  5.237  0.560 |  1.806 20.901  0.382 |\n",
      "AUDI-100-L       |  2.740 |  1.771  3.437  0.418 | -1.507 14.540  0.302 |\n",
      "SIMCA-1307-GLS   |  1.634 | -1.310  1.880  0.643 | -0.699  3.127  0.183 |\n",
      "CITROEN-GS-CLUB  |  2.763 | -2.734  8.193  0.979 |  0.140  0.126  0.003 |\n",
      "FIAT-132-1600GLS |  1.087 |  0.451  0.223  0.172 |  0.692  3.070  0.405 |\n",
      "LANCIA-BETA-1300 |  1.085 | -0.206  0.046  0.036 | -0.146  0.137  0.018 |\n",
      "PEUGEOT-504      |  1.264 |  0.519  0.296  0.169 | -1.006  6.481  0.633 |\n",
      "RENAULT-16-TL    |  2.398 | -1.944  4.140  0.657 | -0.895  5.134  0.139 |\n",
      "RENAULT-30-TS    |  5.127 |  4.887 26.172  0.909 |  1.063  7.241  0.043 |\n",
      "TOYOTA-COROLLA   |  4.209 | -4.142 18.804  0.969 |  0.320  0.655  0.006 |\n",
      "                  Dim.3    ctr   cos2  \n",
      "ALFASUD-TI-1350   0.429  2.248  0.022 |\n",
      "AUDI-100-L        0.421  2.170  0.024 |\n",
      "SIMCA-1307-GLS    0.302  1.118  0.034 |\n",
      "CITROEN-GS-CLUB   0.051  0.032  0.000 |\n",
      "FIAT-132-1600GLS -0.151  0.280  0.019 |\n",
      "LANCIA-BETA-1300  0.012  0.002  0.000 |\n",
      "PEUGEOT-504       0.161  0.316  0.016 |\n",
      "RENAULT-16-TL    -0.616  4.641  0.066 |\n",
      "RENAULT-30-TS    -0.244  0.726  0.002 |\n",
      "TOYOTA-COROLLA   -0.360  1.587  0.007 |\n",
      "\n",
      "Variables\n",
      "                    Dim.1    ctr   cos2    Dim.2    ctr   cos2    Dim.3    ctr\n",
      "CYL              |  0.880 15.274  0.774 |  0.079  0.725  0.006 |  0.091  1.833\n",
      "POT              |  0.902 16.055  0.814 |  0.374 16.088  0.140 | -0.068  1.030\n",
      "LAR              |  0.873 15.044  0.763 | -0.405 18.868  0.164 |  0.054  0.644\n",
      "ANCHO            |  0.794 12.420  0.630 | -0.446 22.940  0.199 |  0.303 20.179\n",
      "PESO             |  0.909 16.301  0.826 | -0.232  6.180  0.054 | -0.217 10.358\n",
      "VEL              |  0.751 11.136  0.565 |  0.537 33.304  0.289 |  0.336 24.819\n",
      "PRECIO           |  0.836 13.769  0.698 |  0.128  1.895  0.016 | -0.432 41.136\n",
      "                   cos2  \n",
      "CYL               0.008 |\n",
      "POT               0.005 |\n",
      "LAR               0.003 |\n",
      "ANCHO             0.092 |\n",
      "PESO              0.047 |\n",
      "VEL               0.113 |\n",
      "PRECIO            0.187 |\n",
      "\n",
      "Supplementary categories\n",
      "                     Dist    Dim.1   cos2 v.test    Dim.2   cos2 v.test  \n",
      "B                |  0.392 |  0.153  0.152  0.223 | -0.002  0.000 -0.006 |\n",
      "MB               |  1.838 |  1.723  0.878  2.230 |  0.047  0.001  0.146 |\n",
      "P                |  2.305 | -2.281  0.979 -2.590 | -0.054  0.001 -0.147 |\n",
      "                  Dim.3   cos2 v.test  \n",
      "B                 0.319  0.661  1.555 |\n",
      "MB               -0.522  0.081 -2.258 |\n",
      "P                 0.180  0.006  0.683 |\n"
     ]
    }
   ],
   "source": [
    "# Paso 5: Realizar el análisis de componentes principales (PCA)\n",
    "# Usamos la función PCA para reducir la dimensionalidad y explorar la estructura de los datos.\n",
    "# El argumento scale.unit=TRUE estandariza las variables numéricas.\n",
    "# ncp=5 indica el número de componentes principales a calcular.\n",
    "# quali.sup=c(8:8) indica que la columna 8 ('LUJO') es cualitativa y se trata como variable suplementaria.\n",
    "# graph=FALSE evita la generación automática de gráficos.\n",
    "\n",
    "# Instala el paquete FactoMineR si no lo tienes: install.packages(\"FactoMineR\")\n",
    "library(FactoMineR)\n",
    "\n",
    "res <- PCA(Dataset.PCA, scale.unit=TRUE, ncp=5, quali.sup=c(8:8), graph=FALSE)\n",
    "\n",
    "# Visualiza un resumen de los resultados\n",
    "summary(res)"
   ]
  },
  {
   "cell_type": "code",
   "execution_count": 18,
   "id": "f02a348d",
   "metadata": {
    "vscode": {
     "languageId": "r"
    }
   },
   "outputs": [],
   "source": [
    "# Paso 6: Visualizar los resultados del análisis de componentes principales (PCA)\n",
    "# Usamos funciones de FactoMineR para graficar los individuos y las variables en los componentes principales.\n",
    "\n",
    "# Gráfico de individuos (autos) en los dos primeros componentes principales\n",
    "plot.PCA(res, axes=c(1, 2), choix=\"ind\", habillage=\"none\", col.ind=\"black\", \n",
    "         col.ind.sup=\"blue\", col.quali=\"magenta\", label=c(\"ind\", \"ind.sup\", \"quali\"), new.plot=TRUE)\n",
    "\n",
    "# Gráfico de variables en los dos primeros componentes principales\n",
    "plot.PCA(res, axes=c(1, 2), choix=\"var\", new.plot=TRUE, col.var=\"black\", \n",
    "         col.quanti.sup=\"blue\", label=c(\"var\", \"quanti.sup\"), lim.cos2.var=0)"
   ]
  }
 ],
 "metadata": {
  "kernelspec": {
   "display_name": "R",
   "language": "R",
   "name": "ir"
  },
  "language_info": {
   "codemirror_mode": "r",
   "file_extension": ".r",
   "mimetype": "text/x-r-source",
   "name": "R",
   "pygments_lexer": "r",
   "version": "4.3.3"
  }
 },
 "nbformat": 4,
 "nbformat_minor": 5
}
